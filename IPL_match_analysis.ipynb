{
  "nbformat": 4,
  "nbformat_minor": 0,
  "metadata": {
    "colab": {
      "provenance": [],
      "authorship_tag": "ABX9TyMjdERi/c/NBoJc7qWPwKz0",
      "include_colab_link": true
    },
    "kernelspec": {
      "name": "python3",
      "display_name": "Python 3"
    },
    "language_info": {
      "name": "python"
    }
  },
  "cells": [
    {
      "cell_type": "markdown",
      "metadata": {
        "id": "view-in-github",
        "colab_type": "text"
      },
      "source": [
        "<a href=\"https://colab.research.google.com/github/Rishabhsingh2211/IPL-Match-Analysis/blob/main/IPL_match_analysis.ipynb\" target=\"_parent\"><img src=\"https://colab.research.google.com/assets/colab-badge.svg\" alt=\"Open In Colab\"/></a>"
      ]
    },
    {
      "cell_type": "code",
      "source": [
        "#importing necessary libraries\n",
        "import pandas as pd \n",
        "import numpy as np\n",
        "import seaborn as sns\n",
        "import matplotlib.pyplot as plt"
      ],
      "metadata": {
        "id": "Wp3bqXeMThse"
      },
      "execution_count": 1,
      "outputs": []
    },
    {
      "cell_type": "markdown",
      "source": [
        "**Part 1 : Reading data of matches.csv file using pandas library**"
      ],
      "metadata": {
        "id": "IbgaQpjdURmI"
      }
    },
    {
      "cell_type": "code",
      "source": [
        "# Read the CSV file into a DataFrame\n",
        "ipl_df = pd.read_csv('/content/matches.csv')\n",
        "\n",
        "# Print the DataFrame\n",
        "ipl_df\n"
      ],
      "metadata": {
        "colab": {
          "base_uri": "https://localhost:8080/",
          "height": 869
        },
        "id": "2oYjM-FV2kR1",
        "outputId": "24a30cb2-c1c0-4cec-8d41-26ab44ad3e5f"
      },
      "execution_count": 2,
      "outputs": [
        {
          "output_type": "execute_result",
          "data": {
            "text/plain": [
              "        id  season           city        date                        team1  \\\n",
              "0        1    2017      Hyderabad  2017-04-05          Sunrisers Hyderabad   \n",
              "1        2    2017           Pune  2017-04-06               Mumbai Indians   \n",
              "2        3    2017         Rajkot  2017-04-07                Gujarat Lions   \n",
              "3        4    2017         Indore  2017-04-08       Rising Pune Supergiant   \n",
              "4        5    2017      Bangalore  2017-04-08  Royal Challengers Bangalore   \n",
              "..     ...     ...            ...         ...                          ...   \n",
              "751  11347    2019         Mumbai    05/05/19        Kolkata Knight Riders   \n",
              "752  11412    2019        Chennai    07/05/19          Chennai Super Kings   \n",
              "753  11413    2019  Visakhapatnam    08/05/19          Sunrisers Hyderabad   \n",
              "754  11414    2019  Visakhapatnam    10/05/19               Delhi Capitals   \n",
              "755  11415    2019      Hyderabad    12/05/19               Mumbai Indians   \n",
              "\n",
              "                           team2                  toss_winner toss_decision  \\\n",
              "0    Royal Challengers Bangalore  Royal Challengers Bangalore         field   \n",
              "1         Rising Pune Supergiant       Rising Pune Supergiant         field   \n",
              "2          Kolkata Knight Riders        Kolkata Knight Riders         field   \n",
              "3                Kings XI Punjab              Kings XI Punjab         field   \n",
              "4               Delhi Daredevils  Royal Challengers Bangalore           bat   \n",
              "..                           ...                          ...           ...   \n",
              "751               Mumbai Indians               Mumbai Indians         field   \n",
              "752               Mumbai Indians          Chennai Super Kings           bat   \n",
              "753               Delhi Capitals               Delhi Capitals         field   \n",
              "754          Chennai Super Kings          Chennai Super Kings         field   \n",
              "755          Chennai Super Kings               Mumbai Indians           bat   \n",
              "\n",
              "     result  dl_applied                       winner  win_by_runs  \\\n",
              "0    normal           0          Sunrisers Hyderabad           35   \n",
              "1    normal           0       Rising Pune Supergiant            0   \n",
              "2    normal           0        Kolkata Knight Riders            0   \n",
              "3    normal           0              Kings XI Punjab            0   \n",
              "4    normal           0  Royal Challengers Bangalore           15   \n",
              "..      ...         ...                          ...          ...   \n",
              "751  normal           0               Mumbai Indians            0   \n",
              "752  normal           0               Mumbai Indians            0   \n",
              "753  normal           0               Delhi Capitals            0   \n",
              "754  normal           0          Chennai Super Kings            0   \n",
              "755  normal           0               Mumbai Indians            1   \n",
              "\n",
              "     win_by_wickets player_of_match  \\\n",
              "0                 0    Yuvraj Singh   \n",
              "1                 7       SPD Smith   \n",
              "2                10         CA Lynn   \n",
              "3                 6      GJ Maxwell   \n",
              "4                 0       KM Jadhav   \n",
              "..              ...             ...   \n",
              "751               9       HH Pandya   \n",
              "752               6        AS Yadav   \n",
              "753               2         RR Pant   \n",
              "754               6    F du Plessis   \n",
              "755               0       JJ Bumrah   \n",
              "\n",
              "                                         venue         umpire1  \\\n",
              "0    Rajiv Gandhi International Stadium, Uppal     AY Dandekar   \n",
              "1      Maharashtra Cricket Association Stadium  A Nand Kishore   \n",
              "2       Saurashtra Cricket Association Stadium     Nitin Menon   \n",
              "3                       Holkar Cricket Stadium    AK Chaudhary   \n",
              "4                        M Chinnaswamy Stadium             NaN   \n",
              "..                                         ...             ...   \n",
              "751                           Wankhede Stadium   Nanda Kishore   \n",
              "752                  M. A. Chidambaram Stadium     Nigel Llong   \n",
              "753                           ACA-VDCA Stadium             NaN   \n",
              "754                           ACA-VDCA Stadium   Sundaram Ravi   \n",
              "755         Rajiv Gandhi Intl. Cricket Stadium     Nitin Menon   \n",
              "\n",
              "            umpire2                  umpire3  \n",
              "0          NJ Llong                      NaN  \n",
              "1            S Ravi                      NaN  \n",
              "2         CK Nandan                      NaN  \n",
              "3     C Shamshuddin                      NaN  \n",
              "4               NaN                      NaN  \n",
              "..              ...                      ...  \n",
              "751        O Nandan                   S Ravi  \n",
              "752     Nitin Menon                Ian Gould  \n",
              "753             NaN                      NaN  \n",
              "754  Bruce Oxenford  Chettithody Shamshuddin  \n",
              "755       Ian Gould              Nigel Llong  \n",
              "\n",
              "[756 rows x 18 columns]"
            ],
            "text/html": [
              "\n",
              "  <div id=\"df-b4a27d0b-c338-4664-bf16-36c0f7ce3395\">\n",
              "    <div class=\"colab-df-container\">\n",
              "      <div>\n",
              "<style scoped>\n",
              "    .dataframe tbody tr th:only-of-type {\n",
              "        vertical-align: middle;\n",
              "    }\n",
              "\n",
              "    .dataframe tbody tr th {\n",
              "        vertical-align: top;\n",
              "    }\n",
              "\n",
              "    .dataframe thead th {\n",
              "        text-align: right;\n",
              "    }\n",
              "</style>\n",
              "<table border=\"1\" class=\"dataframe\">\n",
              "  <thead>\n",
              "    <tr style=\"text-align: right;\">\n",
              "      <th></th>\n",
              "      <th>id</th>\n",
              "      <th>season</th>\n",
              "      <th>city</th>\n",
              "      <th>date</th>\n",
              "      <th>team1</th>\n",
              "      <th>team2</th>\n",
              "      <th>toss_winner</th>\n",
              "      <th>toss_decision</th>\n",
              "      <th>result</th>\n",
              "      <th>dl_applied</th>\n",
              "      <th>winner</th>\n",
              "      <th>win_by_runs</th>\n",
              "      <th>win_by_wickets</th>\n",
              "      <th>player_of_match</th>\n",
              "      <th>venue</th>\n",
              "      <th>umpire1</th>\n",
              "      <th>umpire2</th>\n",
              "      <th>umpire3</th>\n",
              "    </tr>\n",
              "  </thead>\n",
              "  <tbody>\n",
              "    <tr>\n",
              "      <th>0</th>\n",
              "      <td>1</td>\n",
              "      <td>2017</td>\n",
              "      <td>Hyderabad</td>\n",
              "      <td>2017-04-05</td>\n",
              "      <td>Sunrisers Hyderabad</td>\n",
              "      <td>Royal Challengers Bangalore</td>\n",
              "      <td>Royal Challengers Bangalore</td>\n",
              "      <td>field</td>\n",
              "      <td>normal</td>\n",
              "      <td>0</td>\n",
              "      <td>Sunrisers Hyderabad</td>\n",
              "      <td>35</td>\n",
              "      <td>0</td>\n",
              "      <td>Yuvraj Singh</td>\n",
              "      <td>Rajiv Gandhi International Stadium, Uppal</td>\n",
              "      <td>AY Dandekar</td>\n",
              "      <td>NJ Llong</td>\n",
              "      <td>NaN</td>\n",
              "    </tr>\n",
              "    <tr>\n",
              "      <th>1</th>\n",
              "      <td>2</td>\n",
              "      <td>2017</td>\n",
              "      <td>Pune</td>\n",
              "      <td>2017-04-06</td>\n",
              "      <td>Mumbai Indians</td>\n",
              "      <td>Rising Pune Supergiant</td>\n",
              "      <td>Rising Pune Supergiant</td>\n",
              "      <td>field</td>\n",
              "      <td>normal</td>\n",
              "      <td>0</td>\n",
              "      <td>Rising Pune Supergiant</td>\n",
              "      <td>0</td>\n",
              "      <td>7</td>\n",
              "      <td>SPD Smith</td>\n",
              "      <td>Maharashtra Cricket Association Stadium</td>\n",
              "      <td>A Nand Kishore</td>\n",
              "      <td>S Ravi</td>\n",
              "      <td>NaN</td>\n",
              "    </tr>\n",
              "    <tr>\n",
              "      <th>2</th>\n",
              "      <td>3</td>\n",
              "      <td>2017</td>\n",
              "      <td>Rajkot</td>\n",
              "      <td>2017-04-07</td>\n",
              "      <td>Gujarat Lions</td>\n",
              "      <td>Kolkata Knight Riders</td>\n",
              "      <td>Kolkata Knight Riders</td>\n",
              "      <td>field</td>\n",
              "      <td>normal</td>\n",
              "      <td>0</td>\n",
              "      <td>Kolkata Knight Riders</td>\n",
              "      <td>0</td>\n",
              "      <td>10</td>\n",
              "      <td>CA Lynn</td>\n",
              "      <td>Saurashtra Cricket Association Stadium</td>\n",
              "      <td>Nitin Menon</td>\n",
              "      <td>CK Nandan</td>\n",
              "      <td>NaN</td>\n",
              "    </tr>\n",
              "    <tr>\n",
              "      <th>3</th>\n",
              "      <td>4</td>\n",
              "      <td>2017</td>\n",
              "      <td>Indore</td>\n",
              "      <td>2017-04-08</td>\n",
              "      <td>Rising Pune Supergiant</td>\n",
              "      <td>Kings XI Punjab</td>\n",
              "      <td>Kings XI Punjab</td>\n",
              "      <td>field</td>\n",
              "      <td>normal</td>\n",
              "      <td>0</td>\n",
              "      <td>Kings XI Punjab</td>\n",
              "      <td>0</td>\n",
              "      <td>6</td>\n",
              "      <td>GJ Maxwell</td>\n",
              "      <td>Holkar Cricket Stadium</td>\n",
              "      <td>AK Chaudhary</td>\n",
              "      <td>C Shamshuddin</td>\n",
              "      <td>NaN</td>\n",
              "    </tr>\n",
              "    <tr>\n",
              "      <th>4</th>\n",
              "      <td>5</td>\n",
              "      <td>2017</td>\n",
              "      <td>Bangalore</td>\n",
              "      <td>2017-04-08</td>\n",
              "      <td>Royal Challengers Bangalore</td>\n",
              "      <td>Delhi Daredevils</td>\n",
              "      <td>Royal Challengers Bangalore</td>\n",
              "      <td>bat</td>\n",
              "      <td>normal</td>\n",
              "      <td>0</td>\n",
              "      <td>Royal Challengers Bangalore</td>\n",
              "      <td>15</td>\n",
              "      <td>0</td>\n",
              "      <td>KM Jadhav</td>\n",
              "      <td>M Chinnaswamy Stadium</td>\n",
              "      <td>NaN</td>\n",
              "      <td>NaN</td>\n",
              "      <td>NaN</td>\n",
              "    </tr>\n",
              "    <tr>\n",
              "      <th>...</th>\n",
              "      <td>...</td>\n",
              "      <td>...</td>\n",
              "      <td>...</td>\n",
              "      <td>...</td>\n",
              "      <td>...</td>\n",
              "      <td>...</td>\n",
              "      <td>...</td>\n",
              "      <td>...</td>\n",
              "      <td>...</td>\n",
              "      <td>...</td>\n",
              "      <td>...</td>\n",
              "      <td>...</td>\n",
              "      <td>...</td>\n",
              "      <td>...</td>\n",
              "      <td>...</td>\n",
              "      <td>...</td>\n",
              "      <td>...</td>\n",
              "      <td>...</td>\n",
              "    </tr>\n",
              "    <tr>\n",
              "      <th>751</th>\n",
              "      <td>11347</td>\n",
              "      <td>2019</td>\n",
              "      <td>Mumbai</td>\n",
              "      <td>05/05/19</td>\n",
              "      <td>Kolkata Knight Riders</td>\n",
              "      <td>Mumbai Indians</td>\n",
              "      <td>Mumbai Indians</td>\n",
              "      <td>field</td>\n",
              "      <td>normal</td>\n",
              "      <td>0</td>\n",
              "      <td>Mumbai Indians</td>\n",
              "      <td>0</td>\n",
              "      <td>9</td>\n",
              "      <td>HH Pandya</td>\n",
              "      <td>Wankhede Stadium</td>\n",
              "      <td>Nanda Kishore</td>\n",
              "      <td>O Nandan</td>\n",
              "      <td>S Ravi</td>\n",
              "    </tr>\n",
              "    <tr>\n",
              "      <th>752</th>\n",
              "      <td>11412</td>\n",
              "      <td>2019</td>\n",
              "      <td>Chennai</td>\n",
              "      <td>07/05/19</td>\n",
              "      <td>Chennai Super Kings</td>\n",
              "      <td>Mumbai Indians</td>\n",
              "      <td>Chennai Super Kings</td>\n",
              "      <td>bat</td>\n",
              "      <td>normal</td>\n",
              "      <td>0</td>\n",
              "      <td>Mumbai Indians</td>\n",
              "      <td>0</td>\n",
              "      <td>6</td>\n",
              "      <td>AS Yadav</td>\n",
              "      <td>M. A. Chidambaram Stadium</td>\n",
              "      <td>Nigel Llong</td>\n",
              "      <td>Nitin Menon</td>\n",
              "      <td>Ian Gould</td>\n",
              "    </tr>\n",
              "    <tr>\n",
              "      <th>753</th>\n",
              "      <td>11413</td>\n",
              "      <td>2019</td>\n",
              "      <td>Visakhapatnam</td>\n",
              "      <td>08/05/19</td>\n",
              "      <td>Sunrisers Hyderabad</td>\n",
              "      <td>Delhi Capitals</td>\n",
              "      <td>Delhi Capitals</td>\n",
              "      <td>field</td>\n",
              "      <td>normal</td>\n",
              "      <td>0</td>\n",
              "      <td>Delhi Capitals</td>\n",
              "      <td>0</td>\n",
              "      <td>2</td>\n",
              "      <td>RR Pant</td>\n",
              "      <td>ACA-VDCA Stadium</td>\n",
              "      <td>NaN</td>\n",
              "      <td>NaN</td>\n",
              "      <td>NaN</td>\n",
              "    </tr>\n",
              "    <tr>\n",
              "      <th>754</th>\n",
              "      <td>11414</td>\n",
              "      <td>2019</td>\n",
              "      <td>Visakhapatnam</td>\n",
              "      <td>10/05/19</td>\n",
              "      <td>Delhi Capitals</td>\n",
              "      <td>Chennai Super Kings</td>\n",
              "      <td>Chennai Super Kings</td>\n",
              "      <td>field</td>\n",
              "      <td>normal</td>\n",
              "      <td>0</td>\n",
              "      <td>Chennai Super Kings</td>\n",
              "      <td>0</td>\n",
              "      <td>6</td>\n",
              "      <td>F du Plessis</td>\n",
              "      <td>ACA-VDCA Stadium</td>\n",
              "      <td>Sundaram Ravi</td>\n",
              "      <td>Bruce Oxenford</td>\n",
              "      <td>Chettithody Shamshuddin</td>\n",
              "    </tr>\n",
              "    <tr>\n",
              "      <th>755</th>\n",
              "      <td>11415</td>\n",
              "      <td>2019</td>\n",
              "      <td>Hyderabad</td>\n",
              "      <td>12/05/19</td>\n",
              "      <td>Mumbai Indians</td>\n",
              "      <td>Chennai Super Kings</td>\n",
              "      <td>Mumbai Indians</td>\n",
              "      <td>bat</td>\n",
              "      <td>normal</td>\n",
              "      <td>0</td>\n",
              "      <td>Mumbai Indians</td>\n",
              "      <td>1</td>\n",
              "      <td>0</td>\n",
              "      <td>JJ Bumrah</td>\n",
              "      <td>Rajiv Gandhi Intl. Cricket Stadium</td>\n",
              "      <td>Nitin Menon</td>\n",
              "      <td>Ian Gould</td>\n",
              "      <td>Nigel Llong</td>\n",
              "    </tr>\n",
              "  </tbody>\n",
              "</table>\n",
              "<p>756 rows × 18 columns</p>\n",
              "</div>\n",
              "      <button class=\"colab-df-convert\" onclick=\"convertToInteractive('df-b4a27d0b-c338-4664-bf16-36c0f7ce3395')\"\n",
              "              title=\"Convert this dataframe to an interactive table.\"\n",
              "              style=\"display:none;\">\n",
              "        \n",
              "  <svg xmlns=\"http://www.w3.org/2000/svg\" height=\"24px\"viewBox=\"0 0 24 24\"\n",
              "       width=\"24px\">\n",
              "    <path d=\"M0 0h24v24H0V0z\" fill=\"none\"/>\n",
              "    <path d=\"M18.56 5.44l.94 2.06.94-2.06 2.06-.94-2.06-.94-.94-2.06-.94 2.06-2.06.94zm-11 1L8.5 8.5l.94-2.06 2.06-.94-2.06-.94L8.5 2.5l-.94 2.06-2.06.94zm10 10l.94 2.06.94-2.06 2.06-.94-2.06-.94-.94-2.06-.94 2.06-2.06.94z\"/><path d=\"M17.41 7.96l-1.37-1.37c-.4-.4-.92-.59-1.43-.59-.52 0-1.04.2-1.43.59L10.3 9.45l-7.72 7.72c-.78.78-.78 2.05 0 2.83L4 21.41c.39.39.9.59 1.41.59.51 0 1.02-.2 1.41-.59l7.78-7.78 2.81-2.81c.8-.78.8-2.07 0-2.86zM5.41 20L4 18.59l7.72-7.72 1.47 1.35L5.41 20z\"/>\n",
              "  </svg>\n",
              "      </button>\n",
              "      \n",
              "  <style>\n",
              "    .colab-df-container {\n",
              "      display:flex;\n",
              "      flex-wrap:wrap;\n",
              "      gap: 12px;\n",
              "    }\n",
              "\n",
              "    .colab-df-convert {\n",
              "      background-color: #E8F0FE;\n",
              "      border: none;\n",
              "      border-radius: 50%;\n",
              "      cursor: pointer;\n",
              "      display: none;\n",
              "      fill: #1967D2;\n",
              "      height: 32px;\n",
              "      padding: 0 0 0 0;\n",
              "      width: 32px;\n",
              "    }\n",
              "\n",
              "    .colab-df-convert:hover {\n",
              "      background-color: #E2EBFA;\n",
              "      box-shadow: 0px 1px 2px rgba(60, 64, 67, 0.3), 0px 1px 3px 1px rgba(60, 64, 67, 0.15);\n",
              "      fill: #174EA6;\n",
              "    }\n",
              "\n",
              "    [theme=dark] .colab-df-convert {\n",
              "      background-color: #3B4455;\n",
              "      fill: #D2E3FC;\n",
              "    }\n",
              "\n",
              "    [theme=dark] .colab-df-convert:hover {\n",
              "      background-color: #434B5C;\n",
              "      box-shadow: 0px 1px 3px 1px rgba(0, 0, 0, 0.15);\n",
              "      filter: drop-shadow(0px 1px 2px rgba(0, 0, 0, 0.3));\n",
              "      fill: #FFFFFF;\n",
              "    }\n",
              "  </style>\n",
              "\n",
              "      <script>\n",
              "        const buttonEl =\n",
              "          document.querySelector('#df-b4a27d0b-c338-4664-bf16-36c0f7ce3395 button.colab-df-convert');\n",
              "        buttonEl.style.display =\n",
              "          google.colab.kernel.accessAllowed ? 'block' : 'none';\n",
              "\n",
              "        async function convertToInteractive(key) {\n",
              "          const element = document.querySelector('#df-b4a27d0b-c338-4664-bf16-36c0f7ce3395');\n",
              "          const dataTable =\n",
              "            await google.colab.kernel.invokeFunction('convertToInteractive',\n",
              "                                                     [key], {});\n",
              "          if (!dataTable) return;\n",
              "\n",
              "          const docLinkHtml = 'Like what you see? Visit the ' +\n",
              "            '<a target=\"_blank\" href=https://colab.research.google.com/notebooks/data_table.ipynb>data table notebook</a>'\n",
              "            + ' to learn more about interactive tables.';\n",
              "          element.innerHTML = '';\n",
              "          dataTable['output_type'] = 'display_data';\n",
              "          await google.colab.output.renderOutput(dataTable, element);\n",
              "          const docLink = document.createElement('div');\n",
              "          docLink.innerHTML = docLinkHtml;\n",
              "          element.appendChild(docLink);\n",
              "        }\n",
              "      </script>\n",
              "    </div>\n",
              "  </div>\n",
              "  "
            ]
          },
          "metadata": {},
          "execution_count": 2
        }
      ]
    },
    {
      "cell_type": "code",
      "source": [
        "#checking the shape of dataset\n",
        "print(ipl_df.shape)\n",
        "\n",
        "#And also check the column names of dataset \n",
        "ipl_df.columns"
      ],
      "metadata": {
        "colab": {
          "base_uri": "https://localhost:8080/"
        },
        "id": "qZI3R8FoUE9X",
        "outputId": "6b351930-d19d-43dd-90ad-953d4d6cc97e"
      },
      "execution_count": 3,
      "outputs": [
        {
          "output_type": "stream",
          "name": "stdout",
          "text": [
            "(756, 18)\n"
          ]
        },
        {
          "output_type": "execute_result",
          "data": {
            "text/plain": [
              "Index(['id', 'season', 'city', 'date', 'team1', 'team2', 'toss_winner',\n",
              "       'toss_decision', 'result', 'dl_applied', 'winner', 'win_by_runs',\n",
              "       'win_by_wickets', 'player_of_match', 'venue', 'umpire1', 'umpire2',\n",
              "       'umpire3'],\n",
              "      dtype='object')"
            ]
          },
          "metadata": {},
          "execution_count": 3
        }
      ]
    },
    {
      "cell_type": "markdown",
      "source": [
        "**Part 2 : Data cleaning and Preparation**\n",
        "\n",
        "* In this project we are noIt using \"umpire1\" \"umpire2\" and \"umpire3\" so we are removing this from data set\n",
        "   "
      ],
      "metadata": {
        "id": "Fyzk12R1VRsd"
      }
    },
    {
      "cell_type": "code",
      "source": [
        "#inplace argument is used to make permanent changes in the dataframe(ipl_df) by setting it to True\n",
        "ipl_df.drop(columns=['umpire1','umpire2','umpire3'],inplace=True)\n",
        "\n",
        "#again we are checking tha column names \n",
        "ipl_df.columns"
      ],
      "metadata": {
        "colab": {
          "base_uri": "https://localhost:8080/"
        },
        "id": "OU7ov_84UspO",
        "outputId": "85aab4ec-f02f-4864-ad70-ba9b4bf3560b"
      },
      "execution_count": 4,
      "outputs": [
        {
          "output_type": "execute_result",
          "data": {
            "text/plain": [
              "Index(['id', 'season', 'city', 'date', 'team1', 'team2', 'toss_winner',\n",
              "       'toss_decision', 'result', 'dl_applied', 'winner', 'win_by_runs',\n",
              "       'win_by_wickets', 'player_of_match', 'venue'],\n",
              "      dtype='object')"
            ]
          },
          "metadata": {},
          "execution_count": 4
        }
      ]
    },
    {
      "cell_type": "code",
      "source": [
        "#see all seasson of ipl \n",
        "ipl_df[\"season\"].unique()"
      ],
      "metadata": {
        "colab": {
          "base_uri": "https://localhost:8080/"
        },
        "id": "yIRhbRrrWpuY",
        "outputId": "4f8663ea-3405-4568-8aa9-cf5f73d3e2bb"
      },
      "execution_count": 5,
      "outputs": [
        {
          "output_type": "execute_result",
          "data": {
            "text/plain": [
              "array([2017, 2008, 2009, 2010, 2011, 2012, 2013, 2014, 2015, 2016, 2018,\n",
              "       2019])"
            ]
          },
          "metadata": {},
          "execution_count": 5
        }
      ]
    },
    {
      "cell_type": "code",
      "source": [
        "#now see the team that have played\n",
        "ipl_df[\"team1\"].unique()"
      ],
      "metadata": {
        "colab": {
          "base_uri": "https://localhost:8080/"
        },
        "id": "NPUDruK_XR5V",
        "outputId": "a0221d0a-9b3c-4909-dbbf-dac35065e1b2"
      },
      "execution_count": 6,
      "outputs": [
        {
          "output_type": "execute_result",
          "data": {
            "text/plain": [
              "array(['Sunrisers Hyderabad', 'Mumbai Indians', 'Gujarat Lions',\n",
              "       'Rising Pune Supergiant', 'Royal Challengers Bangalore',\n",
              "       'Kolkata Knight Riders', 'Delhi Daredevils', 'Kings XI Punjab',\n",
              "       'Chennai Super Kings', 'Rajasthan Royals', 'Deccan Chargers',\n",
              "       'Kochi Tuskers Kerala', 'Pune Warriors', 'Rising Pune Supergiants',\n",
              "       'Delhi Capitals'], dtype=object)"
            ]
          },
          "metadata": {},
          "execution_count": 6
        }
      ]
    },
    {
      "cell_type": "code",
      "source": [
        "#Now see all the cities in which matches played\n",
        "ipl_df[\"city\"].unique()"
      ],
      "metadata": {
        "colab": {
          "base_uri": "https://localhost:8080/"
        },
        "id": "3pFuZCkfXmxr",
        "outputId": "e81b4d21-ebce-48bc-b14a-c04fcf6336f1"
      },
      "execution_count": 7,
      "outputs": [
        {
          "output_type": "execute_result",
          "data": {
            "text/plain": [
              "array(['Hyderabad', 'Pune', 'Rajkot', 'Indore', 'Bangalore', 'Mumbai',\n",
              "       'Kolkata', 'Delhi', 'Chandigarh', 'Kanpur', 'Jaipur', 'Chennai',\n",
              "       'Cape Town', 'Port Elizabeth', 'Durban', 'Centurion',\n",
              "       'East London', 'Johannesburg', 'Kimberley', 'Bloemfontein',\n",
              "       'Ahmedabad', 'Cuttack', 'Nagpur', 'Dharamsala', 'Kochi',\n",
              "       'Visakhapatnam', 'Raipur', 'Ranchi', 'Abu Dhabi', 'Sharjah', nan,\n",
              "       'Mohali', 'Bengaluru'], dtype=object)"
            ]
          },
          "metadata": {},
          "execution_count": 7
        }
      ]
    },
    {
      "cell_type": "markdown",
      "source": [
        "**From th above observation, we have to cleaning some data**\n",
        "\n",
        "* Pune was representad by various team names like 'Rising Pune Supergiant', 'Pune Warriors' & 'Rising Pune Supergiants' so we will change these with the recent team name 'Rising Pune Supergiant' in various columns.\n",
        "\n",
        "* Now 2nd change is in team name Delhi, earlier the team name was  'Delhi Daredevils' but later it was changed to 'delhi capitals', so we have to replace team mane with 'Delhi Capitalas'\n",
        "\n",
        "*   Banglore was remaned as Bengluru so we have to change the name for city Benglore to Bengluru to avoid errors\n",
        "\n",
        "\n",
        "\n",
        "\n",
        "\n"
      ],
      "metadata": {
        "id": "ayaPDH9UYuSy"
      }
    },
    {
      "cell_type": "code",
      "source": [
        "#Now we are replacing the teams name in various columns,also replacing the city name \n",
        "ipl_df.team1.replace({'Rising Pune Supergiants' : 'Rising Pune Supergiant', 'Delhi Daredevils':'Delhi Capitals','Pune Warriors' : 'Rising Pune Supergiant'},inplace=True)\n",
        "ipl_df.team2.replace({'Rising Pune Supergiants' : 'Rising Pune Supergiant', 'Delhi Daredevils':'Delhi Capitals','Pune Warriors' : 'Rising Pune Supergiant'},inplace=True)\n",
        "ipl_df.toss_winner.replace({'Rising Pune Supergiants' : 'Rising Pune Supergiant', 'Delhi Daredevils':'Delhi Capitals','Pune Warriors' : 'Rising Pune Supergiant'},inplace=True)\n",
        "ipl_df.winner.replace({'Rising Pune Supergiants' : 'Rising Pune Supergiant', 'Delhi Daredevils':'Delhi Capitals','Pune Warriors' : 'Rising Pune Supergiant'},inplace=True)\n",
        "ipl_df.city.replace({'Bangalore' : 'Bengaluru'},inplace=True)"
      ],
      "metadata": {
        "id": "Cp7FHzlMYdKf"
      },
      "execution_count": 8,
      "outputs": []
    },
    {
      "cell_type": "markdown",
      "source": [
        "**Now check the result**"
      ],
      "metadata": {
        "id": "mPB_NIHDcs0M"
      }
    },
    {
      "cell_type": "code",
      "source": [
        "ipl_df.team1.unique()"
      ],
      "metadata": {
        "colab": {
          "base_uri": "https://localhost:8080/"
        },
        "id": "9G3B4miPcj7V",
        "outputId": "25db0785-0d74-4fee-9967-84259340dc29"
      },
      "execution_count": 9,
      "outputs": [
        {
          "output_type": "execute_result",
          "data": {
            "text/plain": [
              "array(['Sunrisers Hyderabad', 'Mumbai Indians', 'Gujarat Lions',\n",
              "       'Rising Pune Supergiant', 'Royal Challengers Bangalore',\n",
              "       'Kolkata Knight Riders', 'Delhi Capitals', 'Kings XI Punjab',\n",
              "       'Chennai Super Kings', 'Rajasthan Royals', 'Deccan Chargers',\n",
              "       'Kochi Tuskers Kerala'], dtype=object)"
            ]
          },
          "metadata": {},
          "execution_count": 9
        }
      ]
    },
    {
      "cell_type": "code",
      "source": [
        "ipl_df.team2.unique()"
      ],
      "metadata": {
        "colab": {
          "base_uri": "https://localhost:8080/"
        },
        "id": "AqnbAsmGc1eJ",
        "outputId": "b01a41b0-e641-4e3d-fecf-1ecb7ed40498"
      },
      "execution_count": 10,
      "outputs": [
        {
          "output_type": "execute_result",
          "data": {
            "text/plain": [
              "array(['Royal Challengers Bangalore', 'Rising Pune Supergiant',\n",
              "       'Kolkata Knight Riders', 'Kings XI Punjab', 'Delhi Capitals',\n",
              "       'Sunrisers Hyderabad', 'Mumbai Indians', 'Gujarat Lions',\n",
              "       'Rajasthan Royals', 'Chennai Super Kings', 'Deccan Chargers',\n",
              "       'Kochi Tuskers Kerala'], dtype=object)"
            ]
          },
          "metadata": {},
          "execution_count": 10
        }
      ]
    },
    {
      "cell_type": "code",
      "source": [
        "ipl_df.toss_winner.unique()"
      ],
      "metadata": {
        "colab": {
          "base_uri": "https://localhost:8080/"
        },
        "id": "dVEwdCRAc50p",
        "outputId": "7d005d48-ec34-4a60-8628-5689857f4fba"
      },
      "execution_count": 11,
      "outputs": [
        {
          "output_type": "execute_result",
          "data": {
            "text/plain": [
              "array(['Royal Challengers Bangalore', 'Rising Pune Supergiant',\n",
              "       'Kolkata Knight Riders', 'Kings XI Punjab', 'Sunrisers Hyderabad',\n",
              "       'Mumbai Indians', 'Gujarat Lions', 'Delhi Capitals',\n",
              "       'Chennai Super Kings', 'Rajasthan Royals', 'Deccan Chargers',\n",
              "       'Kochi Tuskers Kerala'], dtype=object)"
            ]
          },
          "metadata": {},
          "execution_count": 11
        }
      ]
    },
    {
      "cell_type": "code",
      "source": [
        "ipl_df.winner.unique()"
      ],
      "metadata": {
        "colab": {
          "base_uri": "https://localhost:8080/"
        },
        "id": "zzWPNmpAdAWR",
        "outputId": "f57b15a1-8946-43d6-bb31-3856875118ae"
      },
      "execution_count": 12,
      "outputs": [
        {
          "output_type": "execute_result",
          "data": {
            "text/plain": [
              "array(['Sunrisers Hyderabad', 'Rising Pune Supergiant',\n",
              "       'Kolkata Knight Riders', 'Kings XI Punjab',\n",
              "       'Royal Challengers Bangalore', 'Mumbai Indians', 'Delhi Capitals',\n",
              "       'Gujarat Lions', 'Chennai Super Kings', 'Rajasthan Royals',\n",
              "       'Deccan Chargers', 'Kochi Tuskers Kerala', nan], dtype=object)"
            ]
          },
          "metadata": {},
          "execution_count": 12
        }
      ]
    },
    {
      "cell_type": "code",
      "source": [
        "ipl_df.city.unique()"
      ],
      "metadata": {
        "colab": {
          "base_uri": "https://localhost:8080/"
        },
        "id": "eaAM6WdwdKyp",
        "outputId": "e5b9b09b-119e-4204-d5f2-0b140671b0ff"
      },
      "execution_count": 13,
      "outputs": [
        {
          "output_type": "execute_result",
          "data": {
            "text/plain": [
              "array(['Hyderabad', 'Pune', 'Rajkot', 'Indore', 'Bengaluru', 'Mumbai',\n",
              "       'Kolkata', 'Delhi', 'Chandigarh', 'Kanpur', 'Jaipur', 'Chennai',\n",
              "       'Cape Town', 'Port Elizabeth', 'Durban', 'Centurion',\n",
              "       'East London', 'Johannesburg', 'Kimberley', 'Bloemfontein',\n",
              "       'Ahmedabad', 'Cuttack', 'Nagpur', 'Dharamsala', 'Kochi',\n",
              "       'Visakhapatnam', 'Raipur', 'Ranchi', 'Abu Dhabi', 'Sharjah', nan,\n",
              "       'Mohali'], dtype=object)"
            ]
          },
          "metadata": {},
          "execution_count": 13
        }
      ]
    },
    {
      "cell_type": "markdown",
      "source": [
        "**Now we will check null values**"
      ],
      "metadata": {
        "id": "ZyKVsG1xgLKE"
      }
    },
    {
      "cell_type": "code",
      "source": [
        "#Check the null values in each column\n",
        "ipl_df.isna().sum()"
      ],
      "metadata": {
        "colab": {
          "base_uri": "https://localhost:8080/"
        },
        "id": "2KT_1ih5dRtQ",
        "outputId": "5bcd2f2a-b153-47cf-990b-9381dae2ed97"
      },
      "execution_count": 14,
      "outputs": [
        {
          "output_type": "execute_result",
          "data": {
            "text/plain": [
              "id                 0\n",
              "season             0\n",
              "city               7\n",
              "date               0\n",
              "team1              0\n",
              "team2              0\n",
              "toss_winner        0\n",
              "toss_decision      0\n",
              "result             0\n",
              "dl_applied         0\n",
              "winner             4\n",
              "win_by_runs        0\n",
              "win_by_wickets     0\n",
              "player_of_match    4\n",
              "venue              0\n",
              "dtype: int64"
            ]
          },
          "metadata": {},
          "execution_count": 14
        }
      ]
    },
    {
      "cell_type": "code",
      "source": [
        "#checking total null values\n",
        "ipl_df.isna().sum().sum()\n"
      ],
      "metadata": {
        "colab": {
          "base_uri": "https://localhost:8080/"
        },
        "id": "rei5TfRzgatn",
        "outputId": "5955515a-aac7-4c4b-a925-e80575bf324f"
      },
      "execution_count": 15,
      "outputs": [
        {
          "output_type": "execute_result",
          "data": {
            "text/plain": [
              "15"
            ]
          },
          "metadata": {},
          "execution_count": 15
        }
      ]
    },
    {
      "cell_type": "markdown",
      "source": [
        "Search NaN values in our dataset"
      ],
      "metadata": {
        "id": "alJrhXeWioP5"
      }
    },
    {
      "cell_type": "code",
      "source": [
        "NaN_df = ipl_df[ipl_df.isna().any(axis = 1)]\n",
        "\n",
        "#To make easier we will highlight the null values\n",
        "NaN_df.style.highlight_null(null_color = 'red')"
      ],
      "metadata": {
        "colab": {
          "base_uri": "https://localhost:8080/",
          "height": 954
        },
        "id": "134KOMXcgiQW",
        "outputId": "07dd8456-74f5-44cd-a33a-ddc01129112d"
      },
      "execution_count": 16,
      "outputs": [
        {
          "output_type": "stream",
          "name": "stderr",
          "text": [
            "<ipython-input-16-fa77c59b3e66>:4: FutureWarning: `null_color` is deprecated: use `color` instead\n",
            "  NaN_df.style.highlight_null(null_color = 'red')\n"
          ]
        },
        {
          "output_type": "execute_result",
          "data": {
            "text/plain": [
              "<pandas.io.formats.style.Styler at 0x7f32da26fee0>"
            ],
            "text/html": [
              "<style type=\"text/css\">\n",
              "#T_7d1ca_row0_col10, #T_7d1ca_row0_col13, #T_7d1ca_row1_col2, #T_7d1ca_row2_col2, #T_7d1ca_row3_col2, #T_7d1ca_row4_col2, #T_7d1ca_row5_col2, #T_7d1ca_row6_col2, #T_7d1ca_row7_col2, #T_7d1ca_row8_col10, #T_7d1ca_row8_col13, #T_7d1ca_row9_col10, #T_7d1ca_row9_col13, #T_7d1ca_row10_col10, #T_7d1ca_row10_col13 {\n",
              "  background-color: red;\n",
              "}\n",
              "</style>\n",
              "<table id=\"T_7d1ca\" class=\"dataframe\">\n",
              "  <thead>\n",
              "    <tr>\n",
              "      <th class=\"blank level0\" >&nbsp;</th>\n",
              "      <th id=\"T_7d1ca_level0_col0\" class=\"col_heading level0 col0\" >id</th>\n",
              "      <th id=\"T_7d1ca_level0_col1\" class=\"col_heading level0 col1\" >season</th>\n",
              "      <th id=\"T_7d1ca_level0_col2\" class=\"col_heading level0 col2\" >city</th>\n",
              "      <th id=\"T_7d1ca_level0_col3\" class=\"col_heading level0 col3\" >date</th>\n",
              "      <th id=\"T_7d1ca_level0_col4\" class=\"col_heading level0 col4\" >team1</th>\n",
              "      <th id=\"T_7d1ca_level0_col5\" class=\"col_heading level0 col5\" >team2</th>\n",
              "      <th id=\"T_7d1ca_level0_col6\" class=\"col_heading level0 col6\" >toss_winner</th>\n",
              "      <th id=\"T_7d1ca_level0_col7\" class=\"col_heading level0 col7\" >toss_decision</th>\n",
              "      <th id=\"T_7d1ca_level0_col8\" class=\"col_heading level0 col8\" >result</th>\n",
              "      <th id=\"T_7d1ca_level0_col9\" class=\"col_heading level0 col9\" >dl_applied</th>\n",
              "      <th id=\"T_7d1ca_level0_col10\" class=\"col_heading level0 col10\" >winner</th>\n",
              "      <th id=\"T_7d1ca_level0_col11\" class=\"col_heading level0 col11\" >win_by_runs</th>\n",
              "      <th id=\"T_7d1ca_level0_col12\" class=\"col_heading level0 col12\" >win_by_wickets</th>\n",
              "      <th id=\"T_7d1ca_level0_col13\" class=\"col_heading level0 col13\" >player_of_match</th>\n",
              "      <th id=\"T_7d1ca_level0_col14\" class=\"col_heading level0 col14\" >venue</th>\n",
              "    </tr>\n",
              "  </thead>\n",
              "  <tbody>\n",
              "    <tr>\n",
              "      <th id=\"T_7d1ca_level0_row0\" class=\"row_heading level0 row0\" >300</th>\n",
              "      <td id=\"T_7d1ca_row0_col0\" class=\"data row0 col0\" >301</td>\n",
              "      <td id=\"T_7d1ca_row0_col1\" class=\"data row0 col1\" >2011</td>\n",
              "      <td id=\"T_7d1ca_row0_col2\" class=\"data row0 col2\" >Delhi</td>\n",
              "      <td id=\"T_7d1ca_row0_col3\" class=\"data row0 col3\" >2011-05-21</td>\n",
              "      <td id=\"T_7d1ca_row0_col4\" class=\"data row0 col4\" >Delhi Capitals</td>\n",
              "      <td id=\"T_7d1ca_row0_col5\" class=\"data row0 col5\" >Rising Pune Supergiant</td>\n",
              "      <td id=\"T_7d1ca_row0_col6\" class=\"data row0 col6\" >Delhi Capitals</td>\n",
              "      <td id=\"T_7d1ca_row0_col7\" class=\"data row0 col7\" >bat</td>\n",
              "      <td id=\"T_7d1ca_row0_col8\" class=\"data row0 col8\" >no result</td>\n",
              "      <td id=\"T_7d1ca_row0_col9\" class=\"data row0 col9\" >0</td>\n",
              "      <td id=\"T_7d1ca_row0_col10\" class=\"data row0 col10\" >nan</td>\n",
              "      <td id=\"T_7d1ca_row0_col11\" class=\"data row0 col11\" >0</td>\n",
              "      <td id=\"T_7d1ca_row0_col12\" class=\"data row0 col12\" >0</td>\n",
              "      <td id=\"T_7d1ca_row0_col13\" class=\"data row0 col13\" >nan</td>\n",
              "      <td id=\"T_7d1ca_row0_col14\" class=\"data row0 col14\" >Feroz Shah Kotla</td>\n",
              "    </tr>\n",
              "    <tr>\n",
              "      <th id=\"T_7d1ca_level0_row1\" class=\"row_heading level0 row1\" >461</th>\n",
              "      <td id=\"T_7d1ca_row1_col0\" class=\"data row1 col0\" >462</td>\n",
              "      <td id=\"T_7d1ca_row1_col1\" class=\"data row1 col1\" >2014</td>\n",
              "      <td id=\"T_7d1ca_row1_col2\" class=\"data row1 col2\" >nan</td>\n",
              "      <td id=\"T_7d1ca_row1_col3\" class=\"data row1 col3\" >2014-04-19</td>\n",
              "      <td id=\"T_7d1ca_row1_col4\" class=\"data row1 col4\" >Mumbai Indians</td>\n",
              "      <td id=\"T_7d1ca_row1_col5\" class=\"data row1 col5\" >Royal Challengers Bangalore</td>\n",
              "      <td id=\"T_7d1ca_row1_col6\" class=\"data row1 col6\" >Royal Challengers Bangalore</td>\n",
              "      <td id=\"T_7d1ca_row1_col7\" class=\"data row1 col7\" >field</td>\n",
              "      <td id=\"T_7d1ca_row1_col8\" class=\"data row1 col8\" >normal</td>\n",
              "      <td id=\"T_7d1ca_row1_col9\" class=\"data row1 col9\" >0</td>\n",
              "      <td id=\"T_7d1ca_row1_col10\" class=\"data row1 col10\" >Royal Challengers Bangalore</td>\n",
              "      <td id=\"T_7d1ca_row1_col11\" class=\"data row1 col11\" >0</td>\n",
              "      <td id=\"T_7d1ca_row1_col12\" class=\"data row1 col12\" >7</td>\n",
              "      <td id=\"T_7d1ca_row1_col13\" class=\"data row1 col13\" >PA Patel</td>\n",
              "      <td id=\"T_7d1ca_row1_col14\" class=\"data row1 col14\" >Dubai International Cricket Stadium</td>\n",
              "    </tr>\n",
              "    <tr>\n",
              "      <th id=\"T_7d1ca_level0_row2\" class=\"row_heading level0 row2\" >462</th>\n",
              "      <td id=\"T_7d1ca_row2_col0\" class=\"data row2 col0\" >463</td>\n",
              "      <td id=\"T_7d1ca_row2_col1\" class=\"data row2 col1\" >2014</td>\n",
              "      <td id=\"T_7d1ca_row2_col2\" class=\"data row2 col2\" >nan</td>\n",
              "      <td id=\"T_7d1ca_row2_col3\" class=\"data row2 col3\" >2014-04-19</td>\n",
              "      <td id=\"T_7d1ca_row2_col4\" class=\"data row2 col4\" >Kolkata Knight Riders</td>\n",
              "      <td id=\"T_7d1ca_row2_col5\" class=\"data row2 col5\" >Delhi Capitals</td>\n",
              "      <td id=\"T_7d1ca_row2_col6\" class=\"data row2 col6\" >Kolkata Knight Riders</td>\n",
              "      <td id=\"T_7d1ca_row2_col7\" class=\"data row2 col7\" >bat</td>\n",
              "      <td id=\"T_7d1ca_row2_col8\" class=\"data row2 col8\" >normal</td>\n",
              "      <td id=\"T_7d1ca_row2_col9\" class=\"data row2 col9\" >0</td>\n",
              "      <td id=\"T_7d1ca_row2_col10\" class=\"data row2 col10\" >Delhi Capitals</td>\n",
              "      <td id=\"T_7d1ca_row2_col11\" class=\"data row2 col11\" >0</td>\n",
              "      <td id=\"T_7d1ca_row2_col12\" class=\"data row2 col12\" >4</td>\n",
              "      <td id=\"T_7d1ca_row2_col13\" class=\"data row2 col13\" >JP Duminy</td>\n",
              "      <td id=\"T_7d1ca_row2_col14\" class=\"data row2 col14\" >Dubai International Cricket Stadium</td>\n",
              "    </tr>\n",
              "    <tr>\n",
              "      <th id=\"T_7d1ca_level0_row3\" class=\"row_heading level0 row3\" >466</th>\n",
              "      <td id=\"T_7d1ca_row3_col0\" class=\"data row3 col0\" >467</td>\n",
              "      <td id=\"T_7d1ca_row3_col1\" class=\"data row3 col1\" >2014</td>\n",
              "      <td id=\"T_7d1ca_row3_col2\" class=\"data row3 col2\" >nan</td>\n",
              "      <td id=\"T_7d1ca_row3_col3\" class=\"data row3 col3\" >2014-04-23</td>\n",
              "      <td id=\"T_7d1ca_row3_col4\" class=\"data row3 col4\" >Chennai Super Kings</td>\n",
              "      <td id=\"T_7d1ca_row3_col5\" class=\"data row3 col5\" >Rajasthan Royals</td>\n",
              "      <td id=\"T_7d1ca_row3_col6\" class=\"data row3 col6\" >Rajasthan Royals</td>\n",
              "      <td id=\"T_7d1ca_row3_col7\" class=\"data row3 col7\" >field</td>\n",
              "      <td id=\"T_7d1ca_row3_col8\" class=\"data row3 col8\" >normal</td>\n",
              "      <td id=\"T_7d1ca_row3_col9\" class=\"data row3 col9\" >0</td>\n",
              "      <td id=\"T_7d1ca_row3_col10\" class=\"data row3 col10\" >Chennai Super Kings</td>\n",
              "      <td id=\"T_7d1ca_row3_col11\" class=\"data row3 col11\" >7</td>\n",
              "      <td id=\"T_7d1ca_row3_col12\" class=\"data row3 col12\" >0</td>\n",
              "      <td id=\"T_7d1ca_row3_col13\" class=\"data row3 col13\" >RA Jadeja</td>\n",
              "      <td id=\"T_7d1ca_row3_col14\" class=\"data row3 col14\" >Dubai International Cricket Stadium</td>\n",
              "    </tr>\n",
              "    <tr>\n",
              "      <th id=\"T_7d1ca_level0_row4\" class=\"row_heading level0 row4\" >468</th>\n",
              "      <td id=\"T_7d1ca_row4_col0\" class=\"data row4 col0\" >469</td>\n",
              "      <td id=\"T_7d1ca_row4_col1\" class=\"data row4 col1\" >2014</td>\n",
              "      <td id=\"T_7d1ca_row4_col2\" class=\"data row4 col2\" >nan</td>\n",
              "      <td id=\"T_7d1ca_row4_col3\" class=\"data row4 col3\" >2014-04-25</td>\n",
              "      <td id=\"T_7d1ca_row4_col4\" class=\"data row4 col4\" >Sunrisers Hyderabad</td>\n",
              "      <td id=\"T_7d1ca_row4_col5\" class=\"data row4 col5\" >Delhi Capitals</td>\n",
              "      <td id=\"T_7d1ca_row4_col6\" class=\"data row4 col6\" >Sunrisers Hyderabad</td>\n",
              "      <td id=\"T_7d1ca_row4_col7\" class=\"data row4 col7\" >bat</td>\n",
              "      <td id=\"T_7d1ca_row4_col8\" class=\"data row4 col8\" >normal</td>\n",
              "      <td id=\"T_7d1ca_row4_col9\" class=\"data row4 col9\" >0</td>\n",
              "      <td id=\"T_7d1ca_row4_col10\" class=\"data row4 col10\" >Sunrisers Hyderabad</td>\n",
              "      <td id=\"T_7d1ca_row4_col11\" class=\"data row4 col11\" >4</td>\n",
              "      <td id=\"T_7d1ca_row4_col12\" class=\"data row4 col12\" >0</td>\n",
              "      <td id=\"T_7d1ca_row4_col13\" class=\"data row4 col13\" >AJ Finch</td>\n",
              "      <td id=\"T_7d1ca_row4_col14\" class=\"data row4 col14\" >Dubai International Cricket Stadium</td>\n",
              "    </tr>\n",
              "    <tr>\n",
              "      <th id=\"T_7d1ca_level0_row5\" class=\"row_heading level0 row5\" >469</th>\n",
              "      <td id=\"T_7d1ca_row5_col0\" class=\"data row5 col0\" >470</td>\n",
              "      <td id=\"T_7d1ca_row5_col1\" class=\"data row5 col1\" >2014</td>\n",
              "      <td id=\"T_7d1ca_row5_col2\" class=\"data row5 col2\" >nan</td>\n",
              "      <td id=\"T_7d1ca_row5_col3\" class=\"data row5 col3\" >2014-04-25</td>\n",
              "      <td id=\"T_7d1ca_row5_col4\" class=\"data row5 col4\" >Mumbai Indians</td>\n",
              "      <td id=\"T_7d1ca_row5_col5\" class=\"data row5 col5\" >Chennai Super Kings</td>\n",
              "      <td id=\"T_7d1ca_row5_col6\" class=\"data row5 col6\" >Mumbai Indians</td>\n",
              "      <td id=\"T_7d1ca_row5_col7\" class=\"data row5 col7\" >bat</td>\n",
              "      <td id=\"T_7d1ca_row5_col8\" class=\"data row5 col8\" >normal</td>\n",
              "      <td id=\"T_7d1ca_row5_col9\" class=\"data row5 col9\" >0</td>\n",
              "      <td id=\"T_7d1ca_row5_col10\" class=\"data row5 col10\" >Chennai Super Kings</td>\n",
              "      <td id=\"T_7d1ca_row5_col11\" class=\"data row5 col11\" >0</td>\n",
              "      <td id=\"T_7d1ca_row5_col12\" class=\"data row5 col12\" >7</td>\n",
              "      <td id=\"T_7d1ca_row5_col13\" class=\"data row5 col13\" >MM Sharma</td>\n",
              "      <td id=\"T_7d1ca_row5_col14\" class=\"data row5 col14\" >Dubai International Cricket Stadium</td>\n",
              "    </tr>\n",
              "    <tr>\n",
              "      <th id=\"T_7d1ca_level0_row6\" class=\"row_heading level0 row6\" >474</th>\n",
              "      <td id=\"T_7d1ca_row6_col0\" class=\"data row6 col0\" >475</td>\n",
              "      <td id=\"T_7d1ca_row6_col1\" class=\"data row6 col1\" >2014</td>\n",
              "      <td id=\"T_7d1ca_row6_col2\" class=\"data row6 col2\" >nan</td>\n",
              "      <td id=\"T_7d1ca_row6_col3\" class=\"data row6 col3\" >2014-04-28</td>\n",
              "      <td id=\"T_7d1ca_row6_col4\" class=\"data row6 col4\" >Royal Challengers Bangalore</td>\n",
              "      <td id=\"T_7d1ca_row6_col5\" class=\"data row6 col5\" >Kings XI Punjab</td>\n",
              "      <td id=\"T_7d1ca_row6_col6\" class=\"data row6 col6\" >Kings XI Punjab</td>\n",
              "      <td id=\"T_7d1ca_row6_col7\" class=\"data row6 col7\" >field</td>\n",
              "      <td id=\"T_7d1ca_row6_col8\" class=\"data row6 col8\" >normal</td>\n",
              "      <td id=\"T_7d1ca_row6_col9\" class=\"data row6 col9\" >0</td>\n",
              "      <td id=\"T_7d1ca_row6_col10\" class=\"data row6 col10\" >Kings XI Punjab</td>\n",
              "      <td id=\"T_7d1ca_row6_col11\" class=\"data row6 col11\" >0</td>\n",
              "      <td id=\"T_7d1ca_row6_col12\" class=\"data row6 col12\" >5</td>\n",
              "      <td id=\"T_7d1ca_row6_col13\" class=\"data row6 col13\" >Sandeep Sharma</td>\n",
              "      <td id=\"T_7d1ca_row6_col14\" class=\"data row6 col14\" >Dubai International Cricket Stadium</td>\n",
              "    </tr>\n",
              "    <tr>\n",
              "      <th id=\"T_7d1ca_level0_row7\" class=\"row_heading level0 row7\" >476</th>\n",
              "      <td id=\"T_7d1ca_row7_col0\" class=\"data row7 col0\" >477</td>\n",
              "      <td id=\"T_7d1ca_row7_col1\" class=\"data row7 col1\" >2014</td>\n",
              "      <td id=\"T_7d1ca_row7_col2\" class=\"data row7 col2\" >nan</td>\n",
              "      <td id=\"T_7d1ca_row7_col3\" class=\"data row7 col3\" >2014-04-30</td>\n",
              "      <td id=\"T_7d1ca_row7_col4\" class=\"data row7 col4\" >Sunrisers Hyderabad</td>\n",
              "      <td id=\"T_7d1ca_row7_col5\" class=\"data row7 col5\" >Mumbai Indians</td>\n",
              "      <td id=\"T_7d1ca_row7_col6\" class=\"data row7 col6\" >Mumbai Indians</td>\n",
              "      <td id=\"T_7d1ca_row7_col7\" class=\"data row7 col7\" >field</td>\n",
              "      <td id=\"T_7d1ca_row7_col8\" class=\"data row7 col8\" >normal</td>\n",
              "      <td id=\"T_7d1ca_row7_col9\" class=\"data row7 col9\" >0</td>\n",
              "      <td id=\"T_7d1ca_row7_col10\" class=\"data row7 col10\" >Sunrisers Hyderabad</td>\n",
              "      <td id=\"T_7d1ca_row7_col11\" class=\"data row7 col11\" >15</td>\n",
              "      <td id=\"T_7d1ca_row7_col12\" class=\"data row7 col12\" >0</td>\n",
              "      <td id=\"T_7d1ca_row7_col13\" class=\"data row7 col13\" >B Kumar</td>\n",
              "      <td id=\"T_7d1ca_row7_col14\" class=\"data row7 col14\" >Dubai International Cricket Stadium</td>\n",
              "    </tr>\n",
              "    <tr>\n",
              "      <th id=\"T_7d1ca_level0_row8\" class=\"row_heading level0 row8\" >545</th>\n",
              "      <td id=\"T_7d1ca_row8_col0\" class=\"data row8 col0\" >546</td>\n",
              "      <td id=\"T_7d1ca_row8_col1\" class=\"data row8 col1\" >2015</td>\n",
              "      <td id=\"T_7d1ca_row8_col2\" class=\"data row8 col2\" >Bengaluru</td>\n",
              "      <td id=\"T_7d1ca_row8_col3\" class=\"data row8 col3\" >2015-04-29</td>\n",
              "      <td id=\"T_7d1ca_row8_col4\" class=\"data row8 col4\" >Royal Challengers Bangalore</td>\n",
              "      <td id=\"T_7d1ca_row8_col5\" class=\"data row8 col5\" >Rajasthan Royals</td>\n",
              "      <td id=\"T_7d1ca_row8_col6\" class=\"data row8 col6\" >Rajasthan Royals</td>\n",
              "      <td id=\"T_7d1ca_row8_col7\" class=\"data row8 col7\" >field</td>\n",
              "      <td id=\"T_7d1ca_row8_col8\" class=\"data row8 col8\" >no result</td>\n",
              "      <td id=\"T_7d1ca_row8_col9\" class=\"data row8 col9\" >0</td>\n",
              "      <td id=\"T_7d1ca_row8_col10\" class=\"data row8 col10\" >nan</td>\n",
              "      <td id=\"T_7d1ca_row8_col11\" class=\"data row8 col11\" >0</td>\n",
              "      <td id=\"T_7d1ca_row8_col12\" class=\"data row8 col12\" >0</td>\n",
              "      <td id=\"T_7d1ca_row8_col13\" class=\"data row8 col13\" >nan</td>\n",
              "      <td id=\"T_7d1ca_row8_col14\" class=\"data row8 col14\" >M Chinnaswamy Stadium</td>\n",
              "    </tr>\n",
              "    <tr>\n",
              "      <th id=\"T_7d1ca_level0_row9\" class=\"row_heading level0 row9\" >570</th>\n",
              "      <td id=\"T_7d1ca_row9_col0\" class=\"data row9 col0\" >571</td>\n",
              "      <td id=\"T_7d1ca_row9_col1\" class=\"data row9 col1\" >2015</td>\n",
              "      <td id=\"T_7d1ca_row9_col2\" class=\"data row9 col2\" >Bengaluru</td>\n",
              "      <td id=\"T_7d1ca_row9_col3\" class=\"data row9 col3\" >2015-05-17</td>\n",
              "      <td id=\"T_7d1ca_row9_col4\" class=\"data row9 col4\" >Delhi Capitals</td>\n",
              "      <td id=\"T_7d1ca_row9_col5\" class=\"data row9 col5\" >Royal Challengers Bangalore</td>\n",
              "      <td id=\"T_7d1ca_row9_col6\" class=\"data row9 col6\" >Royal Challengers Bangalore</td>\n",
              "      <td id=\"T_7d1ca_row9_col7\" class=\"data row9 col7\" >field</td>\n",
              "      <td id=\"T_7d1ca_row9_col8\" class=\"data row9 col8\" >no result</td>\n",
              "      <td id=\"T_7d1ca_row9_col9\" class=\"data row9 col9\" >0</td>\n",
              "      <td id=\"T_7d1ca_row9_col10\" class=\"data row9 col10\" >nan</td>\n",
              "      <td id=\"T_7d1ca_row9_col11\" class=\"data row9 col11\" >0</td>\n",
              "      <td id=\"T_7d1ca_row9_col12\" class=\"data row9 col12\" >0</td>\n",
              "      <td id=\"T_7d1ca_row9_col13\" class=\"data row9 col13\" >nan</td>\n",
              "      <td id=\"T_7d1ca_row9_col14\" class=\"data row9 col14\" >M Chinnaswamy Stadium</td>\n",
              "    </tr>\n",
              "    <tr>\n",
              "      <th id=\"T_7d1ca_level0_row10\" class=\"row_heading level0 row10\" >744</th>\n",
              "      <td id=\"T_7d1ca_row10_col0\" class=\"data row10 col0\" >11340</td>\n",
              "      <td id=\"T_7d1ca_row10_col1\" class=\"data row10 col1\" >2019</td>\n",
              "      <td id=\"T_7d1ca_row10_col2\" class=\"data row10 col2\" >Bengaluru</td>\n",
              "      <td id=\"T_7d1ca_row10_col3\" class=\"data row10 col3\" >30/04/19</td>\n",
              "      <td id=\"T_7d1ca_row10_col4\" class=\"data row10 col4\" >Royal Challengers Bangalore</td>\n",
              "      <td id=\"T_7d1ca_row10_col5\" class=\"data row10 col5\" >Rajasthan Royals</td>\n",
              "      <td id=\"T_7d1ca_row10_col6\" class=\"data row10 col6\" >Rajasthan Royals</td>\n",
              "      <td id=\"T_7d1ca_row10_col7\" class=\"data row10 col7\" >field</td>\n",
              "      <td id=\"T_7d1ca_row10_col8\" class=\"data row10 col8\" >no result</td>\n",
              "      <td id=\"T_7d1ca_row10_col9\" class=\"data row10 col9\" >0</td>\n",
              "      <td id=\"T_7d1ca_row10_col10\" class=\"data row10 col10\" >nan</td>\n",
              "      <td id=\"T_7d1ca_row10_col11\" class=\"data row10 col11\" >0</td>\n",
              "      <td id=\"T_7d1ca_row10_col12\" class=\"data row10 col12\" >0</td>\n",
              "      <td id=\"T_7d1ca_row10_col13\" class=\"data row10 col13\" >nan</td>\n",
              "      <td id=\"T_7d1ca_row10_col14\" class=\"data row10 col14\" >M. Chinnaswamy Stadium</td>\n",
              "    </tr>\n",
              "  </tbody>\n",
              "</table>\n"
            ]
          },
          "metadata": {},
          "execution_count": 16
        }
      ]
    },
    {
      "cell_type": "markdown",
      "source": [
        "**From the above observation**\n",
        "\n",
        "\n",
        "1. In city column, NaN value represent, the stadium location located in dubai, so we have to replace NaN value with Dubai.\n",
        "2. In 'winner' and 'player_of_match' NaN values when match has no result, So we can assume draw or cancelled. So we will replace these with \"draw\\cancelled\"\n",
        "\n"
      ],
      "metadata": {
        "id": "yp5zWwq7ka8M"
      }
    },
    {
      "cell_type": "code",
      "source": [
        "#replacing the NaN values in city\n",
        "ipl_df.loc[[461,462,466,468,469,474,476], 'city'] = \"Dubai\""
      ],
      "metadata": {
        "id": "xcM7D1V_jJIS"
      },
      "execution_count": 17,
      "outputs": []
    },
    {
      "cell_type": "code",
      "source": [
        "#replace NaN values of \"winner\" and \"player_of_match\" column with \"Draw/Cancelled\".\n",
        "ipl_df.fillna({\"winner\":\"Draw/Cancelled\",\"player_of_match\":\"Draw/Cancelled\"},inplace=True)"
      ],
      "metadata": {
        "id": "xWbQZpB9xBBg"
      },
      "execution_count": 18,
      "outputs": []
    },
    {
      "cell_type": "code",
      "source": [
        "#now check again null value in dataset\n",
        "ipl_df.isna().sum().sum()"
      ],
      "metadata": {
        "id": "zx1CMDibyxch",
        "colab": {
          "base_uri": "https://localhost:8080/"
        },
        "outputId": "4f5f0533-7613-4a64-c7e6-6f30792d8d76"
      },
      "execution_count": 19,
      "outputs": [
        {
          "output_type": "execute_result",
          "data": {
            "text/plain": [
              "0"
            ]
          },
          "metadata": {},
          "execution_count": 19
        }
      ]
    },
    {
      "cell_type": "markdown",
      "source": [
        "**Part 3 : Data analysis and visualisation**"
      ],
      "metadata": {
        "id": "FpAaX-lic4EQ"
      }
    },
    {
      "cell_type": "code",
      "source": [
        "#total number of match played\n",
        "ipl_df.id.count()"
      ],
      "metadata": {
        "colab": {
          "base_uri": "https://localhost:8080/"
        },
        "id": "U13q5KhOciwI",
        "outputId": "849b24e3-0f40-4b0c-985f-980e6cf43694"
      },
      "execution_count": 20,
      "outputs": [
        {
          "output_type": "execute_result",
          "data": {
            "text/plain": [
              "756"
            ]
          },
          "metadata": {},
          "execution_count": 20
        }
      ]
    },
    {
      "cell_type": "code",
      "source": [
        "#In these matches some are tie, so we will find \n",
        "tie_matches = ipl_df[ipl_df.result == 'tie'].count()\n",
        "\n",
        "tie_matches.result"
      ],
      "metadata": {
        "id": "MJheVbfedJRN",
        "colab": {
          "base_uri": "https://localhost:8080/"
        },
        "outputId": "26c1328d-a5ae-426a-fb37-511e9eeb9e95"
      },
      "execution_count": 21,
      "outputs": [
        {
          "output_type": "execute_result",
          "data": {
            "text/plain": [
              "9"
            ]
          },
          "metadata": {},
          "execution_count": 21
        }
      ]
    },
    {
      "cell_type": "markdown",
      "source": [
        "**First we check the name of cities**"
      ],
      "metadata": {
        "id": "qLxibF1Pqf0Q"
      }
    },
    {
      "cell_type": "code",
      "source": [
        "ipl_df.city.unique()"
      ],
      "metadata": {
        "colab": {
          "base_uri": "https://localhost:8080/"
        },
        "id": "KeRYrdvwpLB_",
        "outputId": "59ca12a4-e283-44ac-90bb-e8f36d8c19a8"
      },
      "execution_count": 22,
      "outputs": [
        {
          "output_type": "execute_result",
          "data": {
            "text/plain": [
              "array(['Hyderabad', 'Pune', 'Rajkot', 'Indore', 'Bengaluru', 'Mumbai',\n",
              "       'Kolkata', 'Delhi', 'Chandigarh', 'Kanpur', 'Jaipur', 'Chennai',\n",
              "       'Cape Town', 'Port Elizabeth', 'Durban', 'Centurion',\n",
              "       'East London', 'Johannesburg', 'Kimberley', 'Bloemfontein',\n",
              "       'Ahmedabad', 'Cuttack', 'Nagpur', 'Dharamsala', 'Kochi',\n",
              "       'Visakhapatnam', 'Raipur', 'Ranchi', 'Abu Dhabi', 'Sharjah',\n",
              "       'Dubai', 'Mohali'], dtype=object)"
            ]
          },
          "metadata": {},
          "execution_count": 22
        }
      ]
    },
    {
      "cell_type": "code",
      "source": [
        "#Now we have to find the table of 'cities' and count total matches\n",
        "cities = ipl_df.groupby('city')[['id']].count()\n",
        "cities"
      ],
      "metadata": {
        "colab": {
          "base_uri": "https://localhost:8080/",
          "height": 1000
        },
        "id": "DYm2dtIqqqyE",
        "outputId": "c09cd2c0-ffee-463e-9465-5d1e2098827f"
      },
      "execution_count": 23,
      "outputs": [
        {
          "output_type": "execute_result",
          "data": {
            "text/plain": [
              "                 id\n",
              "city               \n",
              "Abu Dhabi         7\n",
              "Ahmedabad        12\n",
              "Bengaluru        80\n",
              "Bloemfontein      2\n",
              "Cape Town         7\n",
              "Centurion        12\n",
              "Chandigarh       46\n",
              "Chennai          57\n",
              "Cuttack           7\n",
              "Delhi            74\n",
              "Dharamsala        9\n",
              "Dubai             7\n",
              "Durban           15\n",
              "East London       3\n",
              "Hyderabad        64\n",
              "Indore            9\n",
              "Jaipur           47\n",
              "Johannesburg      8\n",
              "Kanpur            4\n",
              "Kimberley         3\n",
              "Kochi             5\n",
              "Kolkata          77\n",
              "Mohali           10\n",
              "Mumbai          101\n",
              "Nagpur            3\n",
              "Port Elizabeth    7\n",
              "Pune             38\n",
              "Raipur            6\n",
              "Rajkot           10\n",
              "Ranchi            7\n",
              "Sharjah           6\n",
              "Visakhapatnam    13"
            ],
            "text/html": [
              "\n",
              "  <div id=\"df-c3703fda-e221-43b6-a555-6074a46fb16c\">\n",
              "    <div class=\"colab-df-container\">\n",
              "      <div>\n",
              "<style scoped>\n",
              "    .dataframe tbody tr th:only-of-type {\n",
              "        vertical-align: middle;\n",
              "    }\n",
              "\n",
              "    .dataframe tbody tr th {\n",
              "        vertical-align: top;\n",
              "    }\n",
              "\n",
              "    .dataframe thead th {\n",
              "        text-align: right;\n",
              "    }\n",
              "</style>\n",
              "<table border=\"1\" class=\"dataframe\">\n",
              "  <thead>\n",
              "    <tr style=\"text-align: right;\">\n",
              "      <th></th>\n",
              "      <th>id</th>\n",
              "    </tr>\n",
              "    <tr>\n",
              "      <th>city</th>\n",
              "      <th></th>\n",
              "    </tr>\n",
              "  </thead>\n",
              "  <tbody>\n",
              "    <tr>\n",
              "      <th>Abu Dhabi</th>\n",
              "      <td>7</td>\n",
              "    </tr>\n",
              "    <tr>\n",
              "      <th>Ahmedabad</th>\n",
              "      <td>12</td>\n",
              "    </tr>\n",
              "    <tr>\n",
              "      <th>Bengaluru</th>\n",
              "      <td>80</td>\n",
              "    </tr>\n",
              "    <tr>\n",
              "      <th>Bloemfontein</th>\n",
              "      <td>2</td>\n",
              "    </tr>\n",
              "    <tr>\n",
              "      <th>Cape Town</th>\n",
              "      <td>7</td>\n",
              "    </tr>\n",
              "    <tr>\n",
              "      <th>Centurion</th>\n",
              "      <td>12</td>\n",
              "    </tr>\n",
              "    <tr>\n",
              "      <th>Chandigarh</th>\n",
              "      <td>46</td>\n",
              "    </tr>\n",
              "    <tr>\n",
              "      <th>Chennai</th>\n",
              "      <td>57</td>\n",
              "    </tr>\n",
              "    <tr>\n",
              "      <th>Cuttack</th>\n",
              "      <td>7</td>\n",
              "    </tr>\n",
              "    <tr>\n",
              "      <th>Delhi</th>\n",
              "      <td>74</td>\n",
              "    </tr>\n",
              "    <tr>\n",
              "      <th>Dharamsala</th>\n",
              "      <td>9</td>\n",
              "    </tr>\n",
              "    <tr>\n",
              "      <th>Dubai</th>\n",
              "      <td>7</td>\n",
              "    </tr>\n",
              "    <tr>\n",
              "      <th>Durban</th>\n",
              "      <td>15</td>\n",
              "    </tr>\n",
              "    <tr>\n",
              "      <th>East London</th>\n",
              "      <td>3</td>\n",
              "    </tr>\n",
              "    <tr>\n",
              "      <th>Hyderabad</th>\n",
              "      <td>64</td>\n",
              "    </tr>\n",
              "    <tr>\n",
              "      <th>Indore</th>\n",
              "      <td>9</td>\n",
              "    </tr>\n",
              "    <tr>\n",
              "      <th>Jaipur</th>\n",
              "      <td>47</td>\n",
              "    </tr>\n",
              "    <tr>\n",
              "      <th>Johannesburg</th>\n",
              "      <td>8</td>\n",
              "    </tr>\n",
              "    <tr>\n",
              "      <th>Kanpur</th>\n",
              "      <td>4</td>\n",
              "    </tr>\n",
              "    <tr>\n",
              "      <th>Kimberley</th>\n",
              "      <td>3</td>\n",
              "    </tr>\n",
              "    <tr>\n",
              "      <th>Kochi</th>\n",
              "      <td>5</td>\n",
              "    </tr>\n",
              "    <tr>\n",
              "      <th>Kolkata</th>\n",
              "      <td>77</td>\n",
              "    </tr>\n",
              "    <tr>\n",
              "      <th>Mohali</th>\n",
              "      <td>10</td>\n",
              "    </tr>\n",
              "    <tr>\n",
              "      <th>Mumbai</th>\n",
              "      <td>101</td>\n",
              "    </tr>\n",
              "    <tr>\n",
              "      <th>Nagpur</th>\n",
              "      <td>3</td>\n",
              "    </tr>\n",
              "    <tr>\n",
              "      <th>Port Elizabeth</th>\n",
              "      <td>7</td>\n",
              "    </tr>\n",
              "    <tr>\n",
              "      <th>Pune</th>\n",
              "      <td>38</td>\n",
              "    </tr>\n",
              "    <tr>\n",
              "      <th>Raipur</th>\n",
              "      <td>6</td>\n",
              "    </tr>\n",
              "    <tr>\n",
              "      <th>Rajkot</th>\n",
              "      <td>10</td>\n",
              "    </tr>\n",
              "    <tr>\n",
              "      <th>Ranchi</th>\n",
              "      <td>7</td>\n",
              "    </tr>\n",
              "    <tr>\n",
              "      <th>Sharjah</th>\n",
              "      <td>6</td>\n",
              "    </tr>\n",
              "    <tr>\n",
              "      <th>Visakhapatnam</th>\n",
              "      <td>13</td>\n",
              "    </tr>\n",
              "  </tbody>\n",
              "</table>\n",
              "</div>\n",
              "      <button class=\"colab-df-convert\" onclick=\"convertToInteractive('df-c3703fda-e221-43b6-a555-6074a46fb16c')\"\n",
              "              title=\"Convert this dataframe to an interactive table.\"\n",
              "              style=\"display:none;\">\n",
              "        \n",
              "  <svg xmlns=\"http://www.w3.org/2000/svg\" height=\"24px\"viewBox=\"0 0 24 24\"\n",
              "       width=\"24px\">\n",
              "    <path d=\"M0 0h24v24H0V0z\" fill=\"none\"/>\n",
              "    <path d=\"M18.56 5.44l.94 2.06.94-2.06 2.06-.94-2.06-.94-.94-2.06-.94 2.06-2.06.94zm-11 1L8.5 8.5l.94-2.06 2.06-.94-2.06-.94L8.5 2.5l-.94 2.06-2.06.94zm10 10l.94 2.06.94-2.06 2.06-.94-2.06-.94-.94-2.06-.94 2.06-2.06.94z\"/><path d=\"M17.41 7.96l-1.37-1.37c-.4-.4-.92-.59-1.43-.59-.52 0-1.04.2-1.43.59L10.3 9.45l-7.72 7.72c-.78.78-.78 2.05 0 2.83L4 21.41c.39.39.9.59 1.41.59.51 0 1.02-.2 1.41-.59l7.78-7.78 2.81-2.81c.8-.78.8-2.07 0-2.86zM5.41 20L4 18.59l7.72-7.72 1.47 1.35L5.41 20z\"/>\n",
              "  </svg>\n",
              "      </button>\n",
              "      \n",
              "  <style>\n",
              "    .colab-df-container {\n",
              "      display:flex;\n",
              "      flex-wrap:wrap;\n",
              "      gap: 12px;\n",
              "    }\n",
              "\n",
              "    .colab-df-convert {\n",
              "      background-color: #E8F0FE;\n",
              "      border: none;\n",
              "      border-radius: 50%;\n",
              "      cursor: pointer;\n",
              "      display: none;\n",
              "      fill: #1967D2;\n",
              "      height: 32px;\n",
              "      padding: 0 0 0 0;\n",
              "      width: 32px;\n",
              "    }\n",
              "\n",
              "    .colab-df-convert:hover {\n",
              "      background-color: #E2EBFA;\n",
              "      box-shadow: 0px 1px 2px rgba(60, 64, 67, 0.3), 0px 1px 3px 1px rgba(60, 64, 67, 0.15);\n",
              "      fill: #174EA6;\n",
              "    }\n",
              "\n",
              "    [theme=dark] .colab-df-convert {\n",
              "      background-color: #3B4455;\n",
              "      fill: #D2E3FC;\n",
              "    }\n",
              "\n",
              "    [theme=dark] .colab-df-convert:hover {\n",
              "      background-color: #434B5C;\n",
              "      box-shadow: 0px 1px 3px 1px rgba(0, 0, 0, 0.15);\n",
              "      filter: drop-shadow(0px 1px 2px rgba(0, 0, 0, 0.3));\n",
              "      fill: #FFFFFF;\n",
              "    }\n",
              "  </style>\n",
              "\n",
              "      <script>\n",
              "        const buttonEl =\n",
              "          document.querySelector('#df-c3703fda-e221-43b6-a555-6074a46fb16c button.colab-df-convert');\n",
              "        buttonEl.style.display =\n",
              "          google.colab.kernel.accessAllowed ? 'block' : 'none';\n",
              "\n",
              "        async function convertToInteractive(key) {\n",
              "          const element = document.querySelector('#df-c3703fda-e221-43b6-a555-6074a46fb16c');\n",
              "          const dataTable =\n",
              "            await google.colab.kernel.invokeFunction('convertToInteractive',\n",
              "                                                     [key], {});\n",
              "          if (!dataTable) return;\n",
              "\n",
              "          const docLinkHtml = 'Like what you see? Visit the ' +\n",
              "            '<a target=\"_blank\" href=https://colab.research.google.com/notebooks/data_table.ipynb>data table notebook</a>'\n",
              "            + ' to learn more about interactive tables.';\n",
              "          element.innerHTML = '';\n",
              "          dataTable['output_type'] = 'display_data';\n",
              "          await google.colab.output.renderOutput(dataTable, element);\n",
              "          const docLink = document.createElement('div');\n",
              "          docLink.innerHTML = docLinkHtml;\n",
              "          element.appendChild(docLink);\n",
              "        }\n",
              "      </script>\n",
              "    </div>\n",
              "  </div>\n",
              "  "
            ]
          },
          "metadata": {},
          "execution_count": 23
        }
      ]
    },
    {
      "cell_type": "markdown",
      "source": [
        "Set the data in organised manner"
      ],
      "metadata": {
        "id": "w9wrxgAG3e8I"
      }
    },
    {
      "cell_type": "code",
      "source": [
        "#rename the id column with matches\n",
        "cities.rename(columns={'id':'matches'},inplace=True)\n",
        "\n",
        "#sort the data ascending order\n",
        "cities = cities.sort_values('matches' , ascending = False).reset_index()\n",
        "\n",
        "#set the heatmap in dataframe\n",
        "cities.style.background_gradient()\n",
        "\n"
      ],
      "metadata": {
        "colab": {
          "base_uri": "https://localhost:8080/",
          "height": 1000
        },
        "id": "OjRSZLsBt75G",
        "outputId": "dddb21df-660d-461e-d247-f01891531ed7"
      },
      "execution_count": 24,
      "outputs": [
        {
          "output_type": "execute_result",
          "data": {
            "text/plain": [
              "<pandas.io.formats.style.Styler at 0x7f32da26fd90>"
            ],
            "text/html": [
              "<style type=\"text/css\">\n",
              "#T_2a3d0_row0_col1 {\n",
              "  background-color: #023858;\n",
              "  color: #f1f1f1;\n",
              "}\n",
              "#T_2a3d0_row1_col1 {\n",
              "  background-color: #0569a5;\n",
              "  color: #f1f1f1;\n",
              "}\n",
              "#T_2a3d0_row2_col1 {\n",
              "  background-color: #056fae;\n",
              "  color: #f1f1f1;\n",
              "}\n",
              "#T_2a3d0_row3_col1 {\n",
              "  background-color: #0d75b3;\n",
              "  color: #f1f1f1;\n",
              "}\n",
              "#T_2a3d0_row4_col1 {\n",
              "  background-color: #358fc0;\n",
              "  color: #f1f1f1;\n",
              "}\n",
              "#T_2a3d0_row5_col1 {\n",
              "  background-color: #589ec8;\n",
              "  color: #f1f1f1;\n",
              "}\n",
              "#T_2a3d0_row6_col1 {\n",
              "  background-color: #86b0d3;\n",
              "  color: #000000;\n",
              "}\n",
              "#T_2a3d0_row7_col1 {\n",
              "  background-color: #8bb2d4;\n",
              "  color: #000000;\n",
              "}\n",
              "#T_2a3d0_row8_col1 {\n",
              "  background-color: #a9bfdc;\n",
              "  color: #000000;\n",
              "}\n",
              "#T_2a3d0_row9_col1 {\n",
              "  background-color: #ebe6f2;\n",
              "  color: #000000;\n",
              "}\n",
              "#T_2a3d0_row10_col1 {\n",
              "  background-color: #eee9f3;\n",
              "  color: #000000;\n",
              "}\n",
              "#T_2a3d0_row11_col1, #T_2a3d0_row12_col1 {\n",
              "  background-color: #f0eaf4;\n",
              "  color: #000000;\n",
              "}\n",
              "#T_2a3d0_row13_col1, #T_2a3d0_row14_col1 {\n",
              "  background-color: #f3edf5;\n",
              "  color: #000000;\n",
              "}\n",
              "#T_2a3d0_row15_col1, #T_2a3d0_row16_col1 {\n",
              "  background-color: #f4eef6;\n",
              "  color: #000000;\n",
              "}\n",
              "#T_2a3d0_row17_col1 {\n",
              "  background-color: #f6eff7;\n",
              "  color: #000000;\n",
              "}\n",
              "#T_2a3d0_row18_col1, #T_2a3d0_row19_col1, #T_2a3d0_row20_col1, #T_2a3d0_row21_col1, #T_2a3d0_row22_col1, #T_2a3d0_row23_col1 {\n",
              "  background-color: #f8f1f8;\n",
              "  color: #000000;\n",
              "}\n",
              "#T_2a3d0_row24_col1, #T_2a3d0_row25_col1 {\n",
              "  background-color: #f9f2f8;\n",
              "  color: #000000;\n",
              "}\n",
              "#T_2a3d0_row26_col1 {\n",
              "  background-color: #fbf3f9;\n",
              "  color: #000000;\n",
              "}\n",
              "#T_2a3d0_row27_col1 {\n",
              "  background-color: #fcf4fa;\n",
              "  color: #000000;\n",
              "}\n",
              "#T_2a3d0_row28_col1, #T_2a3d0_row29_col1, #T_2a3d0_row30_col1 {\n",
              "  background-color: #fef6fa;\n",
              "  color: #000000;\n",
              "}\n",
              "#T_2a3d0_row31_col1 {\n",
              "  background-color: #fff7fb;\n",
              "  color: #000000;\n",
              "}\n",
              "</style>\n",
              "<table id=\"T_2a3d0\" class=\"dataframe\">\n",
              "  <thead>\n",
              "    <tr>\n",
              "      <th class=\"blank level0\" >&nbsp;</th>\n",
              "      <th id=\"T_2a3d0_level0_col0\" class=\"col_heading level0 col0\" >city</th>\n",
              "      <th id=\"T_2a3d0_level0_col1\" class=\"col_heading level0 col1\" >matches</th>\n",
              "    </tr>\n",
              "  </thead>\n",
              "  <tbody>\n",
              "    <tr>\n",
              "      <th id=\"T_2a3d0_level0_row0\" class=\"row_heading level0 row0\" >0</th>\n",
              "      <td id=\"T_2a3d0_row0_col0\" class=\"data row0 col0\" >Mumbai</td>\n",
              "      <td id=\"T_2a3d0_row0_col1\" class=\"data row0 col1\" >101</td>\n",
              "    </tr>\n",
              "    <tr>\n",
              "      <th id=\"T_2a3d0_level0_row1\" class=\"row_heading level0 row1\" >1</th>\n",
              "      <td id=\"T_2a3d0_row1_col0\" class=\"data row1 col0\" >Bengaluru</td>\n",
              "      <td id=\"T_2a3d0_row1_col1\" class=\"data row1 col1\" >80</td>\n",
              "    </tr>\n",
              "    <tr>\n",
              "      <th id=\"T_2a3d0_level0_row2\" class=\"row_heading level0 row2\" >2</th>\n",
              "      <td id=\"T_2a3d0_row2_col0\" class=\"data row2 col0\" >Kolkata</td>\n",
              "      <td id=\"T_2a3d0_row2_col1\" class=\"data row2 col1\" >77</td>\n",
              "    </tr>\n",
              "    <tr>\n",
              "      <th id=\"T_2a3d0_level0_row3\" class=\"row_heading level0 row3\" >3</th>\n",
              "      <td id=\"T_2a3d0_row3_col0\" class=\"data row3 col0\" >Delhi</td>\n",
              "      <td id=\"T_2a3d0_row3_col1\" class=\"data row3 col1\" >74</td>\n",
              "    </tr>\n",
              "    <tr>\n",
              "      <th id=\"T_2a3d0_level0_row4\" class=\"row_heading level0 row4\" >4</th>\n",
              "      <td id=\"T_2a3d0_row4_col0\" class=\"data row4 col0\" >Hyderabad</td>\n",
              "      <td id=\"T_2a3d0_row4_col1\" class=\"data row4 col1\" >64</td>\n",
              "    </tr>\n",
              "    <tr>\n",
              "      <th id=\"T_2a3d0_level0_row5\" class=\"row_heading level0 row5\" >5</th>\n",
              "      <td id=\"T_2a3d0_row5_col0\" class=\"data row5 col0\" >Chennai</td>\n",
              "      <td id=\"T_2a3d0_row5_col1\" class=\"data row5 col1\" >57</td>\n",
              "    </tr>\n",
              "    <tr>\n",
              "      <th id=\"T_2a3d0_level0_row6\" class=\"row_heading level0 row6\" >6</th>\n",
              "      <td id=\"T_2a3d0_row6_col0\" class=\"data row6 col0\" >Jaipur</td>\n",
              "      <td id=\"T_2a3d0_row6_col1\" class=\"data row6 col1\" >47</td>\n",
              "    </tr>\n",
              "    <tr>\n",
              "      <th id=\"T_2a3d0_level0_row7\" class=\"row_heading level0 row7\" >7</th>\n",
              "      <td id=\"T_2a3d0_row7_col0\" class=\"data row7 col0\" >Chandigarh</td>\n",
              "      <td id=\"T_2a3d0_row7_col1\" class=\"data row7 col1\" >46</td>\n",
              "    </tr>\n",
              "    <tr>\n",
              "      <th id=\"T_2a3d0_level0_row8\" class=\"row_heading level0 row8\" >8</th>\n",
              "      <td id=\"T_2a3d0_row8_col0\" class=\"data row8 col0\" >Pune</td>\n",
              "      <td id=\"T_2a3d0_row8_col1\" class=\"data row8 col1\" >38</td>\n",
              "    </tr>\n",
              "    <tr>\n",
              "      <th id=\"T_2a3d0_level0_row9\" class=\"row_heading level0 row9\" >9</th>\n",
              "      <td id=\"T_2a3d0_row9_col0\" class=\"data row9 col0\" >Durban</td>\n",
              "      <td id=\"T_2a3d0_row9_col1\" class=\"data row9 col1\" >15</td>\n",
              "    </tr>\n",
              "    <tr>\n",
              "      <th id=\"T_2a3d0_level0_row10\" class=\"row_heading level0 row10\" >10</th>\n",
              "      <td id=\"T_2a3d0_row10_col0\" class=\"data row10 col0\" >Visakhapatnam</td>\n",
              "      <td id=\"T_2a3d0_row10_col1\" class=\"data row10 col1\" >13</td>\n",
              "    </tr>\n",
              "    <tr>\n",
              "      <th id=\"T_2a3d0_level0_row11\" class=\"row_heading level0 row11\" >11</th>\n",
              "      <td id=\"T_2a3d0_row11_col0\" class=\"data row11 col0\" >Centurion</td>\n",
              "      <td id=\"T_2a3d0_row11_col1\" class=\"data row11 col1\" >12</td>\n",
              "    </tr>\n",
              "    <tr>\n",
              "      <th id=\"T_2a3d0_level0_row12\" class=\"row_heading level0 row12\" >12</th>\n",
              "      <td id=\"T_2a3d0_row12_col0\" class=\"data row12 col0\" >Ahmedabad</td>\n",
              "      <td id=\"T_2a3d0_row12_col1\" class=\"data row12 col1\" >12</td>\n",
              "    </tr>\n",
              "    <tr>\n",
              "      <th id=\"T_2a3d0_level0_row13\" class=\"row_heading level0 row13\" >13</th>\n",
              "      <td id=\"T_2a3d0_row13_col0\" class=\"data row13 col0\" >Rajkot</td>\n",
              "      <td id=\"T_2a3d0_row13_col1\" class=\"data row13 col1\" >10</td>\n",
              "    </tr>\n",
              "    <tr>\n",
              "      <th id=\"T_2a3d0_level0_row14\" class=\"row_heading level0 row14\" >14</th>\n",
              "      <td id=\"T_2a3d0_row14_col0\" class=\"data row14 col0\" >Mohali</td>\n",
              "      <td id=\"T_2a3d0_row14_col1\" class=\"data row14 col1\" >10</td>\n",
              "    </tr>\n",
              "    <tr>\n",
              "      <th id=\"T_2a3d0_level0_row15\" class=\"row_heading level0 row15\" >15</th>\n",
              "      <td id=\"T_2a3d0_row15_col0\" class=\"data row15 col0\" >Dharamsala</td>\n",
              "      <td id=\"T_2a3d0_row15_col1\" class=\"data row15 col1\" >9</td>\n",
              "    </tr>\n",
              "    <tr>\n",
              "      <th id=\"T_2a3d0_level0_row16\" class=\"row_heading level0 row16\" >16</th>\n",
              "      <td id=\"T_2a3d0_row16_col0\" class=\"data row16 col0\" >Indore</td>\n",
              "      <td id=\"T_2a3d0_row16_col1\" class=\"data row16 col1\" >9</td>\n",
              "    </tr>\n",
              "    <tr>\n",
              "      <th id=\"T_2a3d0_level0_row17\" class=\"row_heading level0 row17\" >17</th>\n",
              "      <td id=\"T_2a3d0_row17_col0\" class=\"data row17 col0\" >Johannesburg</td>\n",
              "      <td id=\"T_2a3d0_row17_col1\" class=\"data row17 col1\" >8</td>\n",
              "    </tr>\n",
              "    <tr>\n",
              "      <th id=\"T_2a3d0_level0_row18\" class=\"row_heading level0 row18\" >18</th>\n",
              "      <td id=\"T_2a3d0_row18_col0\" class=\"data row18 col0\" >Ranchi</td>\n",
              "      <td id=\"T_2a3d0_row18_col1\" class=\"data row18 col1\" >7</td>\n",
              "    </tr>\n",
              "    <tr>\n",
              "      <th id=\"T_2a3d0_level0_row19\" class=\"row_heading level0 row19\" >19</th>\n",
              "      <td id=\"T_2a3d0_row19_col0\" class=\"data row19 col0\" >Port Elizabeth</td>\n",
              "      <td id=\"T_2a3d0_row19_col1\" class=\"data row19 col1\" >7</td>\n",
              "    </tr>\n",
              "    <tr>\n",
              "      <th id=\"T_2a3d0_level0_row20\" class=\"row_heading level0 row20\" >20</th>\n",
              "      <td id=\"T_2a3d0_row20_col0\" class=\"data row20 col0\" >Cape Town</td>\n",
              "      <td id=\"T_2a3d0_row20_col1\" class=\"data row20 col1\" >7</td>\n",
              "    </tr>\n",
              "    <tr>\n",
              "      <th id=\"T_2a3d0_level0_row21\" class=\"row_heading level0 row21\" >21</th>\n",
              "      <td id=\"T_2a3d0_row21_col0\" class=\"data row21 col0\" >Dubai</td>\n",
              "      <td id=\"T_2a3d0_row21_col1\" class=\"data row21 col1\" >7</td>\n",
              "    </tr>\n",
              "    <tr>\n",
              "      <th id=\"T_2a3d0_level0_row22\" class=\"row_heading level0 row22\" >22</th>\n",
              "      <td id=\"T_2a3d0_row22_col0\" class=\"data row22 col0\" >Cuttack</td>\n",
              "      <td id=\"T_2a3d0_row22_col1\" class=\"data row22 col1\" >7</td>\n",
              "    </tr>\n",
              "    <tr>\n",
              "      <th id=\"T_2a3d0_level0_row23\" class=\"row_heading level0 row23\" >23</th>\n",
              "      <td id=\"T_2a3d0_row23_col0\" class=\"data row23 col0\" >Abu Dhabi</td>\n",
              "      <td id=\"T_2a3d0_row23_col1\" class=\"data row23 col1\" >7</td>\n",
              "    </tr>\n",
              "    <tr>\n",
              "      <th id=\"T_2a3d0_level0_row24\" class=\"row_heading level0 row24\" >24</th>\n",
              "      <td id=\"T_2a3d0_row24_col0\" class=\"data row24 col0\" >Raipur</td>\n",
              "      <td id=\"T_2a3d0_row24_col1\" class=\"data row24 col1\" >6</td>\n",
              "    </tr>\n",
              "    <tr>\n",
              "      <th id=\"T_2a3d0_level0_row25\" class=\"row_heading level0 row25\" >25</th>\n",
              "      <td id=\"T_2a3d0_row25_col0\" class=\"data row25 col0\" >Sharjah</td>\n",
              "      <td id=\"T_2a3d0_row25_col1\" class=\"data row25 col1\" >6</td>\n",
              "    </tr>\n",
              "    <tr>\n",
              "      <th id=\"T_2a3d0_level0_row26\" class=\"row_heading level0 row26\" >26</th>\n",
              "      <td id=\"T_2a3d0_row26_col0\" class=\"data row26 col0\" >Kochi</td>\n",
              "      <td id=\"T_2a3d0_row26_col1\" class=\"data row26 col1\" >5</td>\n",
              "    </tr>\n",
              "    <tr>\n",
              "      <th id=\"T_2a3d0_level0_row27\" class=\"row_heading level0 row27\" >27</th>\n",
              "      <td id=\"T_2a3d0_row27_col0\" class=\"data row27 col0\" >Kanpur</td>\n",
              "      <td id=\"T_2a3d0_row27_col1\" class=\"data row27 col1\" >4</td>\n",
              "    </tr>\n",
              "    <tr>\n",
              "      <th id=\"T_2a3d0_level0_row28\" class=\"row_heading level0 row28\" >28</th>\n",
              "      <td id=\"T_2a3d0_row28_col0\" class=\"data row28 col0\" >Kimberley</td>\n",
              "      <td id=\"T_2a3d0_row28_col1\" class=\"data row28 col1\" >3</td>\n",
              "    </tr>\n",
              "    <tr>\n",
              "      <th id=\"T_2a3d0_level0_row29\" class=\"row_heading level0 row29\" >29</th>\n",
              "      <td id=\"T_2a3d0_row29_col0\" class=\"data row29 col0\" >Nagpur</td>\n",
              "      <td id=\"T_2a3d0_row29_col1\" class=\"data row29 col1\" >3</td>\n",
              "    </tr>\n",
              "    <tr>\n",
              "      <th id=\"T_2a3d0_level0_row30\" class=\"row_heading level0 row30\" >30</th>\n",
              "      <td id=\"T_2a3d0_row30_col0\" class=\"data row30 col0\" >East London</td>\n",
              "      <td id=\"T_2a3d0_row30_col1\" class=\"data row30 col1\" >3</td>\n",
              "    </tr>\n",
              "    <tr>\n",
              "      <th id=\"T_2a3d0_level0_row31\" class=\"row_heading level0 row31\" >31</th>\n",
              "      <td id=\"T_2a3d0_row31_col0\" class=\"data row31 col0\" >Bloemfontein</td>\n",
              "      <td id=\"T_2a3d0_row31_col1\" class=\"data row31 col1\" >2</td>\n",
              "    </tr>\n",
              "  </tbody>\n",
              "</table>\n"
            ]
          },
          "metadata": {},
          "execution_count": 24
        }
      ]
    },
    {
      "cell_type": "markdown",
      "source": [
        "From the above result we can see that there in 32 location where matches had been played"
      ],
      "metadata": {
        "id": "ieDboekUvdsg"
      }
    },
    {
      "cell_type": "code",
      "source": [
        "#plot city data in bar map\n",
        "plt.figure(figsize = (20 , 10))\n",
        "\n",
        "#draw gird lines\n",
        "plt.grid()\n",
        "plt.title('Matches Played In Each City' , fontsize = 15 , bbox = {'facecolor' : '0.9' , 'pad' : 5} , pad = 18)\n",
        "\n",
        "#draw the bar chart\n",
        "sns.barplot(x = 'matches' , y = 'city' , data = cities , palette = 'summer')\n",
        "#sns.barplot(x='matches',y='city',data=cities,palette='winter')\n",
        "plt.xlabel(\"Total matches played\",fontsize=15)\n",
        "plt.ylabel(\"City\",fontsize=15)\n",
        "plt.show()\n"
      ],
      "metadata": {
        "colab": {
          "base_uri": "https://localhost:8080/",
          "height": 714
        },
        "id": "rmYs3amot-VC",
        "outputId": "1be6a9ed-2997-42c3-ba20-3bd52b60dbad"
      },
      "execution_count": 25,
      "outputs": [
        {
          "output_type": "display_data",
          "data": {
            "text/plain": [
              "<Figure size 2000x1000 with 1 Axes>"
            ],
            "image/png": "[encoded data removed]"
          },
          "metadata": {}
        }
      ]
    },
    {
      "cell_type": "markdown",
      "source": [
        "From the above bar plat it seems that maximum number of matches play in 'Mumbai', 'Bengaluru' and 'Kolkata'"
      ],
      "metadata": {
        "id": "zz4WOEY92NXi"
      }
    },
    {
      "cell_type": "code",
      "source": [
        "#Get matches played in every Season\n",
        "season_df = ipl_df.groupby('season') [['id']].count()\n",
        "season_df"
      ],
      "metadata": {
        "colab": {
          "base_uri": "https://localhost:8080/",
          "height": 457
        },
        "id": "lkfD3-gxxdi3",
        "outputId": "5126ad4e-4cf8-4c66-84e4-7b3afe6244d7"
      },
      "execution_count": 26,
      "outputs": [
        {
          "output_type": "execute_result",
          "data": {
            "text/plain": [
              "        id\n",
              "season    \n",
              "2008    58\n",
              "2009    57\n",
              "2010    60\n",
              "2011    73\n",
              "2012    74\n",
              "2013    76\n",
              "2014    60\n",
              "2015    59\n",
              "2016    60\n",
              "2017    59\n",
              "2018    60\n",
              "2019    60"
            ],
            "text/html": [
              "\n",
              "  <div id=\"df-f3785526-dbb5-45cb-83cb-c8be71ac1125\">\n",
              "    <div class=\"colab-df-container\">\n",
              "      <div>\n",
              "<style scoped>\n",
              "    .dataframe tbody tr th:only-of-type {\n",
              "        vertical-align: middle;\n",
              "    }\n",
              "\n",
              "    .dataframe tbody tr th {\n",
              "        vertical-align: top;\n",
              "    }\n",
              "\n",
              "    .dataframe thead th {\n",
              "        text-align: right;\n",
              "    }\n",
              "</style>\n",
              "<table border=\"1\" class=\"dataframe\">\n",
              "  <thead>\n",
              "    <tr style=\"text-align: right;\">\n",
              "      <th></th>\n",
              "      <th>id</th>\n",
              "    </tr>\n",
              "    <tr>\n",
              "      <th>season</th>\n",
              "      <th></th>\n",
              "    </tr>\n",
              "  </thead>\n",
              "  <tbody>\n",
              "    <tr>\n",
              "      <th>2008</th>\n",
              "      <td>58</td>\n",
              "    </tr>\n",
              "    <tr>\n",
              "      <th>2009</th>\n",
              "      <td>57</td>\n",
              "    </tr>\n",
              "    <tr>\n",
              "      <th>2010</th>\n",
              "      <td>60</td>\n",
              "    </tr>\n",
              "    <tr>\n",
              "      <th>2011</th>\n",
              "      <td>73</td>\n",
              "    </tr>\n",
              "    <tr>\n",
              "      <th>2012</th>\n",
              "      <td>74</td>\n",
              "    </tr>\n",
              "    <tr>\n",
              "      <th>2013</th>\n",
              "      <td>76</td>\n",
              "    </tr>\n",
              "    <tr>\n",
              "      <th>2014</th>\n",
              "      <td>60</td>\n",
              "    </tr>\n",
              "    <tr>\n",
              "      <th>2015</th>\n",
              "      <td>59</td>\n",
              "    </tr>\n",
              "    <tr>\n",
              "      <th>2016</th>\n",
              "      <td>60</td>\n",
              "    </tr>\n",
              "    <tr>\n",
              "      <th>2017</th>\n",
              "      <td>59</td>\n",
              "    </tr>\n",
              "    <tr>\n",
              "      <th>2018</th>\n",
              "      <td>60</td>\n",
              "    </tr>\n",
              "    <tr>\n",
              "      <th>2019</th>\n",
              "      <td>60</td>\n",
              "    </tr>\n",
              "  </tbody>\n",
              "</table>\n",
              "</div>\n",
              "      <button class=\"colab-df-convert\" onclick=\"convertToInteractive('df-f3785526-dbb5-45cb-83cb-c8be71ac1125')\"\n",
              "              title=\"Convert this dataframe to an interactive table.\"\n",
              "              style=\"display:none;\">\n",
              "        \n",
              "  <svg xmlns=\"http://www.w3.org/2000/svg\" height=\"24px\"viewBox=\"0 0 24 24\"\n",
              "       width=\"24px\">\n",
              "    <path d=\"M0 0h24v24H0V0z\" fill=\"none\"/>\n",
              "    <path d=\"M18.56 5.44l.94 2.06.94-2.06 2.06-.94-2.06-.94-.94-2.06-.94 2.06-2.06.94zm-11 1L8.5 8.5l.94-2.06 2.06-.94-2.06-.94L8.5 2.5l-.94 2.06-2.06.94zm10 10l.94 2.06.94-2.06 2.06-.94-2.06-.94-.94-2.06-.94 2.06-2.06.94z\"/><path d=\"M17.41 7.96l-1.37-1.37c-.4-.4-.92-.59-1.43-.59-.52 0-1.04.2-1.43.59L10.3 9.45l-7.72 7.72c-.78.78-.78 2.05 0 2.83L4 21.41c.39.39.9.59 1.41.59.51 0 1.02-.2 1.41-.59l7.78-7.78 2.81-2.81c.8-.78.8-2.07 0-2.86zM5.41 20L4 18.59l7.72-7.72 1.47 1.35L5.41 20z\"/>\n",
              "  </svg>\n",
              "      </button>\n",
              "      \n",
              "  <style>\n",
              "    .colab-df-container {\n",
              "      display:flex;\n",
              "      flex-wrap:wrap;\n",
              "      gap: 12px;\n",
              "    }\n",
              "\n",
              "    .colab-df-convert {\n",
              "      background-color: #E8F0FE;\n",
              "      border: none;\n",
              "      border-radius: 50%;\n",
              "      cursor: pointer;\n",
              "      display: none;\n",
              "      fill: #1967D2;\n",
              "      height: 32px;\n",
              "      padding: 0 0 0 0;\n",
              "      width: 32px;\n",
              "    }\n",
              "\n",
              "    .colab-df-convert:hover {\n",
              "      background-color: #E2EBFA;\n",
              "      box-shadow: 0px 1px 2px rgba(60, 64, 67, 0.3), 0px 1px 3px 1px rgba(60, 64, 67, 0.15);\n",
              "      fill: #174EA6;\n",
              "    }\n",
              "\n",
              "    [theme=dark] .colab-df-convert {\n",
              "      background-color: #3B4455;\n",
              "      fill: #D2E3FC;\n",
              "    }\n",
              "\n",
              "    [theme=dark] .colab-df-convert:hover {\n",
              "      background-color: #434B5C;\n",
              "      box-shadow: 0px 1px 3px 1px rgba(0, 0, 0, 0.15);\n",
              "      filter: drop-shadow(0px 1px 2px rgba(0, 0, 0, 0.3));\n",
              "      fill: #FFFFFF;\n",
              "    }\n",
              "  </style>\n",
              "\n",
              "      <script>\n",
              "        const buttonEl =\n",
              "          document.querySelector('#df-f3785526-dbb5-45cb-83cb-c8be71ac1125 button.colab-df-convert');\n",
              "        buttonEl.style.display =\n",
              "          google.colab.kernel.accessAllowed ? 'block' : 'none';\n",
              "\n",
              "        async function convertToInteractive(key) {\n",
              "          const element = document.querySelector('#df-f3785526-dbb5-45cb-83cb-c8be71ac1125');\n",
              "          const dataTable =\n",
              "            await google.colab.kernel.invokeFunction('convertToInteractive',\n",
              "                                                     [key], {});\n",
              "          if (!dataTable) return;\n",
              "\n",
              "          const docLinkHtml = 'Like what you see? Visit the ' +\n",
              "            '<a target=\"_blank\" href=https://colab.research.google.com/notebooks/data_table.ipynb>data table notebook</a>'\n",
              "            + ' to learn more about interactive tables.';\n",
              "          element.innerHTML = '';\n",
              "          dataTable['output_type'] = 'display_data';\n",
              "          await google.colab.output.renderOutput(dataTable, element);\n",
              "          const docLink = document.createElement('div');\n",
              "          docLink.innerHTML = docLinkHtml;\n",
              "          element.appendChild(docLink);\n",
              "        }\n",
              "      </script>\n",
              "    </div>\n",
              "  </div>\n",
              "  "
            ]
          },
          "metadata": {},
          "execution_count": 26
        }
      ]
    },
    {
      "cell_type": "markdown",
      "source": [
        "Set the data in organised manner"
      ],
      "metadata": {
        "id": "Muyt1PSj3loQ"
      }
    },
    {
      "cell_type": "code",
      "source": [
        "#rename the id column with no of matches\n",
        "season_df.rename(columns={'id':'no of matches'},inplace=True)\n",
        "\n",
        "#set the heatmap in dataframe\n",
        "season_df.style.background_gradient()\n"
      ],
      "metadata": {
        "colab": {
          "base_uri": "https://localhost:8080/",
          "height": 457
        },
        "id": "pAQ7JiI33Tm7",
        "outputId": "81ae15df-6501-4d19-fa91-3c9ea6a4998c"
      },
      "execution_count": 27,
      "outputs": [
        {
          "output_type": "execute_result",
          "data": {
            "text/plain": [
              "<pandas.io.formats.style.Styler at 0x7f32da26e770>"
            ],
            "text/html": [
              "<style type=\"text/css\">\n",
              "#T_78c71_row0_col0 {\n",
              "  background-color: #f7f0f7;\n",
              "  color: #000000;\n",
              "}\n",
              "#T_78c71_row1_col0 {\n",
              "  background-color: #fff7fb;\n",
              "  color: #000000;\n",
              "}\n",
              "#T_78c71_row2_col0, #T_78c71_row6_col0, #T_78c71_row8_col0, #T_78c71_row10_col0, #T_78c71_row11_col0 {\n",
              "  background-color: #e5e1ef;\n",
              "  color: #000000;\n",
              "}\n",
              "#T_78c71_row3_col0 {\n",
              "  background-color: #046096;\n",
              "  color: #f1f1f1;\n",
              "}\n",
              "#T_78c71_row4_col0 {\n",
              "  background-color: #045483;\n",
              "  color: #f1f1f1;\n",
              "}\n",
              "#T_78c71_row5_col0 {\n",
              "  background-color: #023858;\n",
              "  color: #f1f1f1;\n",
              "}\n",
              "#T_78c71_row7_col0, #T_78c71_row9_col0 {\n",
              "  background-color: #f0eaf4;\n",
              "  color: #000000;\n",
              "}\n",
              "</style>\n",
              "<table id=\"T_78c71\" class=\"dataframe\">\n",
              "  <thead>\n",
              "    <tr>\n",
              "      <th class=\"blank level0\" >&nbsp;</th>\n",
              "      <th id=\"T_78c71_level0_col0\" class=\"col_heading level0 col0\" >no of matches</th>\n",
              "    </tr>\n",
              "    <tr>\n",
              "      <th class=\"index_name level0\" >season</th>\n",
              "      <th class=\"blank col0\" >&nbsp;</th>\n",
              "    </tr>\n",
              "  </thead>\n",
              "  <tbody>\n",
              "    <tr>\n",
              "      <th id=\"T_78c71_level0_row0\" class=\"row_heading level0 row0\" >2008</th>\n",
              "      <td id=\"T_78c71_row0_col0\" class=\"data row0 col0\" >58</td>\n",
              "    </tr>\n",
              "    <tr>\n",
              "      <th id=\"T_78c71_level0_row1\" class=\"row_heading level0 row1\" >2009</th>\n",
              "      <td id=\"T_78c71_row1_col0\" class=\"data row1 col0\" >57</td>\n",
              "    </tr>\n",
              "    <tr>\n",
              "      <th id=\"T_78c71_level0_row2\" class=\"row_heading level0 row2\" >2010</th>\n",
              "      <td id=\"T_78c71_row2_col0\" class=\"data row2 col0\" >60</td>\n",
              "    </tr>\n",
              "    <tr>\n",
              "      <th id=\"T_78c71_level0_row3\" class=\"row_heading level0 row3\" >2011</th>\n",
              "      <td id=\"T_78c71_row3_col0\" class=\"data row3 col0\" >73</td>\n",
              "    </tr>\n",
              "    <tr>\n",
              "      <th id=\"T_78c71_level0_row4\" class=\"row_heading level0 row4\" >2012</th>\n",
              "      <td id=\"T_78c71_row4_col0\" class=\"data row4 col0\" >74</td>\n",
              "    </tr>\n",
              "    <tr>\n",
              "      <th id=\"T_78c71_level0_row5\" class=\"row_heading level0 row5\" >2013</th>\n",
              "      <td id=\"T_78c71_row5_col0\" class=\"data row5 col0\" >76</td>\n",
              "    </tr>\n",
              "    <tr>\n",
              "      <th id=\"T_78c71_level0_row6\" class=\"row_heading level0 row6\" >2014</th>\n",
              "      <td id=\"T_78c71_row6_col0\" class=\"data row6 col0\" >60</td>\n",
              "    </tr>\n",
              "    <tr>\n",
              "      <th id=\"T_78c71_level0_row7\" class=\"row_heading level0 row7\" >2015</th>\n",
              "      <td id=\"T_78c71_row7_col0\" class=\"data row7 col0\" >59</td>\n",
              "    </tr>\n",
              "    <tr>\n",
              "      <th id=\"T_78c71_level0_row8\" class=\"row_heading level0 row8\" >2016</th>\n",
              "      <td id=\"T_78c71_row8_col0\" class=\"data row8 col0\" >60</td>\n",
              "    </tr>\n",
              "    <tr>\n",
              "      <th id=\"T_78c71_level0_row9\" class=\"row_heading level0 row9\" >2017</th>\n",
              "      <td id=\"T_78c71_row9_col0\" class=\"data row9 col0\" >59</td>\n",
              "    </tr>\n",
              "    <tr>\n",
              "      <th id=\"T_78c71_level0_row10\" class=\"row_heading level0 row10\" >2018</th>\n",
              "      <td id=\"T_78c71_row10_col0\" class=\"data row10 col0\" >60</td>\n",
              "    </tr>\n",
              "    <tr>\n",
              "      <th id=\"T_78c71_level0_row11\" class=\"row_heading level0 row11\" >2019</th>\n",
              "      <td id=\"T_78c71_row11_col0\" class=\"data row11 col0\" >60</td>\n",
              "    </tr>\n",
              "  </tbody>\n",
              "</table>\n"
            ]
          },
          "metadata": {},
          "execution_count": 27
        }
      ]
    },
    {
      "cell_type": "code",
      "source": [
        "#plot data using heatmap\n",
        "plt.figure(figsize=(10,5))\n",
        "plt.title(\"Matches played in each season\",bbox={'facecolor':'0.9','pad':5},pad=18)\n",
        "\n",
        "#The heatmap especially uses to show 2D data in graphical format.It is a type of chart that uses different shades \n",
        "#of colors to represent data values\n",
        "sns.heatmap(season_df,cmap='coolwarm');"
      ],
      "metadata": {
        "colab": {
          "base_uri": "https://localhost:8080/",
          "height": 484
        },
        "id": "fV581KjG4iBV",
        "outputId": "f42505f4-b444-46fc-8391-240a982307f0"
      },
      "execution_count": 28,
      "outputs": [
        {
          "output_type": "display_data",
          "data": {
            "text/plain": [
              "<Figure size 1000x500 with 2 Axes>"
            ],
            "image/png": "[encoded data removed]"
          },
          "metadata": {}
        }
      ]
    },
    {
      "cell_type": "markdown",
      "source": [
        "From the above heatmap the most number of matches played in 2013."
      ],
      "metadata": {
        "id": "8RgRuBe0_afl"
      }
    },
    {
      "cell_type": "markdown",
      "source": [
        "**Matches won by each team**\n"
      ],
      "metadata": {
        "id": "pD68AoncBRtn"
      }
    },
    {
      "cell_type": "code",
      "source": [
        "winner_df = ipl_df.groupby('winner')[['id']].count()\n",
        "\n",
        "#arrenge the data\n",
        "winner_df = winner_df.sort_values('id' , ascending = False).reset_index()\n",
        "\n",
        "# remove the data of 'Draw/Cancelled' \n",
        "winner_df = winner_df[:][winner_df['winner']!='Draw/Cancelled']\n",
        "\n",
        "#rename the id with wins\n",
        "winner_df.rename(columns = {'id':'wins'},inplace=True)\n",
        "\n",
        "winner_df.style.background_gradient()"
      ],
      "metadata": {
        "colab": {
          "base_uri": "https://localhost:8080/",
          "height": 425
        },
        "id": "U_J6vJIc-UmD",
        "outputId": "0fa77cd7-6fec-4ad3-fe2f-6a0c00eb3fd1"
      },
      "execution_count": 29,
      "outputs": [
        {
          "output_type": "execute_result",
          "data": {
            "text/plain": [
              "<pandas.io.formats.style.Styler at 0x7f32da0ab520>"
            ],
            "text/html": [
              "<style type=\"text/css\">\n",
              "#T_79711_row0_col1 {\n",
              "  background-color: #023858;\n",
              "  color: #f1f1f1;\n",
              "}\n",
              "#T_79711_row1_col1 {\n",
              "  background-color: #034f7d;\n",
              "  color: #f1f1f1;\n",
              "}\n",
              "#T_79711_row2_col1 {\n",
              "  background-color: #046198;\n",
              "  color: #f1f1f1;\n",
              "}\n",
              "#T_79711_row3_col1 {\n",
              "  background-color: #056fae;\n",
              "  color: #f1f1f1;\n",
              "}\n",
              "#T_79711_row4_col1 {\n",
              "  background-color: #0a73b2;\n",
              "  color: #f1f1f1;\n",
              "}\n",
              "#T_79711_row5_col1 {\n",
              "  background-color: #1c7fb8;\n",
              "  color: #f1f1f1;\n",
              "}\n",
              "#T_79711_row6_col1 {\n",
              "  background-color: #2484ba;\n",
              "  color: #f1f1f1;\n",
              "}\n",
              "#T_79711_row7_col1 {\n",
              "  background-color: #71a8ce;\n",
              "  color: #f1f1f1;\n",
              "}\n",
              "#T_79711_row8_col1 {\n",
              "  background-color: #d6d6e9;\n",
              "  color: #000000;\n",
              "}\n",
              "#T_79711_row9_col1 {\n",
              "  background-color: #dad9ea;\n",
              "  color: #000000;\n",
              "}\n",
              "#T_79711_row10_col1 {\n",
              "  background-color: #f5eef6;\n",
              "  color: #000000;\n",
              "}\n",
              "#T_79711_row11_col1 {\n",
              "  background-color: #fff7fb;\n",
              "  color: #000000;\n",
              "}\n",
              "</style>\n",
              "<table id=\"T_79711\" class=\"dataframe\">\n",
              "  <thead>\n",
              "    <tr>\n",
              "      <th class=\"blank level0\" >&nbsp;</th>\n",
              "      <th id=\"T_79711_level0_col0\" class=\"col_heading level0 col0\" >winner</th>\n",
              "      <th id=\"T_79711_level0_col1\" class=\"col_heading level0 col1\" >wins</th>\n",
              "    </tr>\n",
              "  </thead>\n",
              "  <tbody>\n",
              "    <tr>\n",
              "      <th id=\"T_79711_level0_row0\" class=\"row_heading level0 row0\" >0</th>\n",
              "      <td id=\"T_79711_row0_col0\" class=\"data row0 col0\" >Mumbai Indians</td>\n",
              "      <td id=\"T_79711_row0_col1\" class=\"data row0 col1\" >109</td>\n",
              "    </tr>\n",
              "    <tr>\n",
              "      <th id=\"T_79711_level0_row1\" class=\"row_heading level0 row1\" >1</th>\n",
              "      <td id=\"T_79711_row1_col0\" class=\"data row1 col0\" >Chennai Super Kings</td>\n",
              "      <td id=\"T_79711_row1_col1\" class=\"data row1 col1\" >100</td>\n",
              "    </tr>\n",
              "    <tr>\n",
              "      <th id=\"T_79711_level0_row2\" class=\"row_heading level0 row2\" >2</th>\n",
              "      <td id=\"T_79711_row2_col0\" class=\"data row2 col0\" >Kolkata Knight Riders</td>\n",
              "      <td id=\"T_79711_row2_col1\" class=\"data row2 col1\" >92</td>\n",
              "    </tr>\n",
              "    <tr>\n",
              "      <th id=\"T_79711_level0_row3\" class=\"row_heading level0 row3\" >3</th>\n",
              "      <td id=\"T_79711_row3_col0\" class=\"data row3 col0\" >Royal Challengers Bangalore</td>\n",
              "      <td id=\"T_79711_row3_col1\" class=\"data row3 col1\" >84</td>\n",
              "    </tr>\n",
              "    <tr>\n",
              "      <th id=\"T_79711_level0_row4\" class=\"row_heading level0 row4\" >4</th>\n",
              "      <td id=\"T_79711_row4_col0\" class=\"data row4 col0\" >Kings XI Punjab</td>\n",
              "      <td id=\"T_79711_row4_col1\" class=\"data row4 col1\" >82</td>\n",
              "    </tr>\n",
              "    <tr>\n",
              "      <th id=\"T_79711_level0_row5\" class=\"row_heading level0 row5\" >5</th>\n",
              "      <td id=\"T_79711_row5_col0\" class=\"data row5 col0\" >Delhi Capitals</td>\n",
              "      <td id=\"T_79711_row5_col1\" class=\"data row5 col1\" >77</td>\n",
              "    </tr>\n",
              "    <tr>\n",
              "      <th id=\"T_79711_level0_row6\" class=\"row_heading level0 row6\" >6</th>\n",
              "      <td id=\"T_79711_row6_col0\" class=\"data row6 col0\" >Rajasthan Royals</td>\n",
              "      <td id=\"T_79711_row6_col1\" class=\"data row6 col1\" >75</td>\n",
              "    </tr>\n",
              "    <tr>\n",
              "      <th id=\"T_79711_level0_row7\" class=\"row_heading level0 row7\" >7</th>\n",
              "      <td id=\"T_79711_row7_col0\" class=\"data row7 col0\" >Sunrisers Hyderabad</td>\n",
              "      <td id=\"T_79711_row7_col1\" class=\"data row7 col1\" >58</td>\n",
              "    </tr>\n",
              "    <tr>\n",
              "      <th id=\"T_79711_level0_row8\" class=\"row_heading level0 row8\" >8</th>\n",
              "      <td id=\"T_79711_row8_col0\" class=\"data row8 col0\" >Deccan Chargers</td>\n",
              "      <td id=\"T_79711_row8_col1\" class=\"data row8 col1\" >29</td>\n",
              "    </tr>\n",
              "    <tr>\n",
              "      <th id=\"T_79711_level0_row9\" class=\"row_heading level0 row9\" >9</th>\n",
              "      <td id=\"T_79711_row9_col0\" class=\"data row9 col0\" >Rising Pune Supergiant</td>\n",
              "      <td id=\"T_79711_row9_col1\" class=\"data row9 col1\" >27</td>\n",
              "    </tr>\n",
              "    <tr>\n",
              "      <th id=\"T_79711_level0_row10\" class=\"row_heading level0 row10\" >10</th>\n",
              "      <td id=\"T_79711_row10_col0\" class=\"data row10 col0\" >Gujarat Lions</td>\n",
              "      <td id=\"T_79711_row10_col1\" class=\"data row10 col1\" >13</td>\n",
              "    </tr>\n",
              "    <tr>\n",
              "      <th id=\"T_79711_level0_row11\" class=\"row_heading level0 row11\" >11</th>\n",
              "      <td id=\"T_79711_row11_col0\" class=\"data row11 col0\" >Kochi Tuskers Kerala</td>\n",
              "      <td id=\"T_79711_row11_col1\" class=\"data row11 col1\" >6</td>\n",
              "    </tr>\n",
              "  </tbody>\n",
              "</table>\n"
            ]
          },
          "metadata": {},
          "execution_count": 29
        }
      ]
    },
    {
      "cell_type": "code",
      "source": [
        "#we are using color code according to team jersey\n",
        "plt.figure(figsize=(15,7))\n",
        "plt.xlabel('winner',fontsize=20)\n",
        "plt.ylabel('Wins',fontsize=20)\n",
        "\n",
        "#to set the tick size \n",
        "plt.tick_params(labelsize=10)\n",
        "#to rotate the ticks in x axis by 90 degree\n",
        "plt.xticks(rotation=90)\n",
        "plt.title('Matches Won By Each Team',fontsize=20,bbox={'facecolor':'0.9','pad':6},pad=25)\n",
        "\n",
        "plt.bar(winner_df.winner, winner_df.wins, color = ['blue','yellow','#3A225D','#C11B17','red','#00008B','#AA336A','#FF822A','#D9E3EF','#9E3495','#E04F16','#632B72'])"
      ],
      "metadata": {
        "colab": {
          "base_uri": "https://localhost:8080/",
          "height": 894
        },
        "id": "af8IPEZVLpE5",
        "outputId": "b8e37d05-224a-4cc0-c03b-c83ff04e0a65"
      },
      "execution_count": 30,
      "outputs": [
        {
          "output_type": "execute_result",
          "data": {
            "text/plain": [
              "<BarContainer object of 12 artists>"
            ]
          },
          "metadata": {},
          "execution_count": 30
        },
        {
          "output_type": "display_data",
          "data": {
            "text/plain": [
              "<Figure size 1500x700 with 1 Axes>"
            ],
            "image/png": "[encoded data removed]"
          },
          "metadata": {}
        }
      ]
    },
    {
      "cell_type": "markdown",
      "source": [
        "From the above chart most number of matches win by Mumbai Indians"
      ],
      "metadata": {
        "id": "zoZRsgv2O_v0"
      }
    },
    {
      "cell_type": "markdown",
      "source": [
        "**Most decision on winning toss i.e bat first/field first**"
      ],
      "metadata": {
        "id": "oWp4885ldCuj"
      }
    },
    {
      "cell_type": "code",
      "source": [
        "#to confirm the possibilities \n",
        "ipl_df.toss_decision.unique()"
      ],
      "metadata": {
        "colab": {
          "base_uri": "https://localhost:8080/"
        },
        "id": "Agu0G-55c-TF",
        "outputId": "b23d5203-ed48-44f3-943d-203970751dcb"
      },
      "execution_count": 31,
      "outputs": [
        {
          "output_type": "execute_result",
          "data": {
            "text/plain": [
              "array(['field', 'bat'], dtype=object)"
            ]
          },
          "metadata": {},
          "execution_count": 31
        }
      ]
    },
    {
      "cell_type": "code",
      "source": [
        "decision_df = ipl_df.groupby('toss_decision')[['id']].count()\n",
        "decision_df = decision_df.sort_values('id').reset_index()\n",
        "\n",
        "#we'll change the of column 'id' to 'total'\n",
        "decision_df.rename(columns={'id':'Total'},inplace=True)\n",
        "decision_df.style.hide_index()"
      ],
      "metadata": {
        "id": "DklXWu2kLyZo",
        "colab": {
          "base_uri": "https://localhost:8080/",
          "height": 149
        },
        "outputId": "c0c70960-37e1-4a00-d5c9-3b01686c46e4"
      },
      "execution_count": 32,
      "outputs": [
        {
          "output_type": "stream",
          "name": "stderr",
          "text": [
            "<ipython-input-32-7b123bfabfa0>:6: FutureWarning: this method is deprecated in favour of `Styler.hide(axis=\"index\")`\n",
            "  decision_df.style.hide_index()\n"
          ]
        },
        {
          "output_type": "execute_result",
          "data": {
            "text/plain": [
              "<pandas.io.formats.style.Styler at 0x7f32d6ad0e80>"
            ],
            "text/html": [
              "<style type=\"text/css\">\n",
              "</style>\n",
              "<table id=\"T_9f2e1\" class=\"dataframe\">\n",
              "  <thead>\n",
              "    <tr>\n",
              "      <th id=\"T_9f2e1_level0_col0\" class=\"col_heading level0 col0\" >toss_decision</th>\n",
              "      <th id=\"T_9f2e1_level0_col1\" class=\"col_heading level0 col1\" >Total</th>\n",
              "    </tr>\n",
              "  </thead>\n",
              "  <tbody>\n",
              "    <tr>\n",
              "      <td id=\"T_9f2e1_row0_col0\" class=\"data row0 col0\" >bat</td>\n",
              "      <td id=\"T_9f2e1_row0_col1\" class=\"data row0 col1\" >293</td>\n",
              "    </tr>\n",
              "    <tr>\n",
              "      <td id=\"T_9f2e1_row1_col0\" class=\"data row1 col0\" >field</td>\n",
              "      <td id=\"T_9f2e1_row1_col1\" class=\"data row1 col1\" >463</td>\n",
              "    </tr>\n",
              "  </tbody>\n",
              "</table>\n"
            ]
          },
          "metadata": {},
          "execution_count": 32
        }
      ]
    },
    {
      "cell_type": "code",
      "source": [
        "#plotting the data\n",
        "plt.figure(figsize=(7,7))\n",
        "plt.title(\"Preferred Decision\",fontsize=20,bbox={'facecolor':'0.9','pad':6},pad=25)\n",
        "plt.xlabel('toss_decision',fontsize=20)\n",
        "plt.ylabel('Total',fontsize=20)\n",
        "plt.grid()\n",
        "plt.tick_params(labelsize=20)\n",
        "plt.bar(decision_df.toss_decision, decision_df.Total)"
      ],
      "metadata": {
        "colab": {
          "base_uri": "https://localhost:8080/",
          "height": 723
        },
        "id": "CfVB-kD8eoqm",
        "outputId": "d2850315-d584-45c1-a551-d7eb95a9e939"
      },
      "execution_count": 33,
      "outputs": [
        {
          "output_type": "execute_result",
          "data": {
            "text/plain": [
              "<BarContainer object of 2 artists>"
            ]
          },
          "metadata": {},
          "execution_count": 33
        },
        {
          "output_type": "display_data",
          "data": {
            "text/plain": [
              "<Figure size 700x700 with 1 Axes>"
            ],
            "image/png": "[encoded data removed]"
          },
          "metadata": {}
        }
      ]
    },
    {
      "cell_type": "markdown",
      "source": [
        "**Which team won IPL Trophy most number of times**"
      ],
      "metadata": {
        "id": "X1_sjHTRB1wM"
      }
    },
    {
      "cell_type": "markdown",
      "source": [
        "First, we will have to extract the final matches from the data frame."
      ],
      "metadata": {
        "id": "cnsH59yEC6nm"
      }
    },
    {
      "cell_type": "markdown",
      "source": [
        "After this we can sort the matches season wise and then select the last match of the season."
      ],
      "metadata": {
        "id": "pw5OjsUFDHK2"
      }
    },
    {
      "cell_type": "code",
      "source": [
        "final_df = ipl_df.groupby('season').tail(1).copy()\n",
        "final_df = final_df.sort_values('season')\n",
        "final_df = final_df.reset_index(drop=True)\n",
        "\n",
        "def highlight_data(x):\n",
        "  df=x.copy()\n",
        "  df.loc[: , :]='background-color:white'\n",
        "  df.winner = 'background-color:blue'\n",
        "  return df\n",
        "final_df.style.apply(highlight_data,axis=None)"
      ],
      "metadata": {
        "id": "jCj4CZfBgT1z",
        "colab": {
          "base_uri": "https://localhost:8080/",
          "height": 914
        },
        "outputId": "39e54aa7-8952-4608-ef69-e03337f2f494"
      },
      "execution_count": 34,
      "outputs": [
        {
          "output_type": "execute_result",
          "data": {
            "text/plain": [
              "<pandas.io.formats.style.Styler at 0x7f32d7c52c80>"
            ],
            "text/html": [
              "<style type=\"text/css\">\n",
              "#T_9b364_row0_col0, #T_9b364_row0_col1, #T_9b364_row0_col2, #T_9b364_row0_col3, #T_9b364_row0_col4, #T_9b364_row0_col5, #T_9b364_row0_col6, #T_9b364_row0_col7, #T_9b364_row0_col8, #T_9b364_row0_col9, #T_9b364_row0_col11, #T_9b364_row0_col12, #T_9b364_row0_col13, #T_9b364_row0_col14, #T_9b364_row1_col0, #T_9b364_row1_col1, #T_9b364_row1_col2, #T_9b364_row1_col3, #T_9b364_row1_col4, #T_9b364_row1_col5, #T_9b364_row1_col6, #T_9b364_row1_col7, #T_9b364_row1_col8, #T_9b364_row1_col9, #T_9b364_row1_col11, #T_9b364_row1_col12, #T_9b364_row1_col13, #T_9b364_row1_col14, #T_9b364_row2_col0, #T_9b364_row2_col1, #T_9b364_row2_col2, #T_9b364_row2_col3, #T_9b364_row2_col4, #T_9b364_row2_col5, #T_9b364_row2_col6, #T_9b364_row2_col7, #T_9b364_row2_col8, #T_9b364_row2_col9, #T_9b364_row2_col11, #T_9b364_row2_col12, #T_9b364_row2_col13, #T_9b364_row2_col14, #T_9b364_row3_col0, #T_9b364_row3_col1, #T_9b364_row3_col2, #T_9b364_row3_col3, #T_9b364_row3_col4, #T_9b364_row3_col5, #T_9b364_row3_col6, #T_9b364_row3_col7, #T_9b364_row3_col8, #T_9b364_row3_col9, #T_9b364_row3_col11, #T_9b364_row3_col12, #T_9b364_row3_col13, #T_9b364_row3_col14, #T_9b364_row4_col0, #T_9b364_row4_col1, #T_9b364_row4_col2, #T_9b364_row4_col3, #T_9b364_row4_col4, #T_9b364_row4_col5, #T_9b364_row4_col6, #T_9b364_row4_col7, #T_9b364_row4_col8, #T_9b364_row4_col9, #T_9b364_row4_col11, #T_9b364_row4_col12, #T_9b364_row4_col13, #T_9b364_row4_col14, #T_9b364_row5_col0, #T_9b364_row5_col1, #T_9b364_row5_col2, #T_9b364_row5_col3, #T_9b364_row5_col4, #T_9b364_row5_col5, #T_9b364_row5_col6, #T_9b364_row5_col7, #T_9b364_row5_col8, #T_9b364_row5_col9, #T_9b364_row5_col11, #T_9b364_row5_col12, #T_9b364_row5_col13, #T_9b364_row5_col14, #T_9b364_row6_col0, #T_9b364_row6_col1, #T_9b364_row6_col2, #T_9b364_row6_col3, #T_9b364_row6_col4, #T_9b364_row6_col5, #T_9b364_row6_col6, #T_9b364_row6_col7, #T_9b364_row6_col8, #T_9b364_row6_col9, #T_9b364_row6_col11, #T_9b364_row6_col12, #T_9b364_row6_col13, #T_9b364_row6_col14, #T_9b364_row7_col0, #T_9b364_row7_col1, #T_9b364_row7_col2, #T_9b364_row7_col3, #T_9b364_row7_col4, #T_9b364_row7_col5, #T_9b364_row7_col6, #T_9b364_row7_col7, #T_9b364_row7_col8, #T_9b364_row7_col9, #T_9b364_row7_col11, #T_9b364_row7_col12, #T_9b364_row7_col13, #T_9b364_row7_col14, #T_9b364_row8_col0, #T_9b364_row8_col1, #T_9b364_row8_col2, #T_9b364_row8_col3, #T_9b364_row8_col4, #T_9b364_row8_col5, #T_9b364_row8_col6, #T_9b364_row8_col7, #T_9b364_row8_col8, #T_9b364_row8_col9, #T_9b364_row8_col11, #T_9b364_row8_col12, #T_9b364_row8_col13, #T_9b364_row8_col14, #T_9b364_row9_col0, #T_9b364_row9_col1, #T_9b364_row9_col2, #T_9b364_row9_col3, #T_9b364_row9_col4, #T_9b364_row9_col5, #T_9b364_row9_col6, #T_9b364_row9_col7, #T_9b364_row9_col8, #T_9b364_row9_col9, #T_9b364_row9_col11, #T_9b364_row9_col12, #T_9b364_row9_col13, #T_9b364_row9_col14, #T_9b364_row10_col0, #T_9b364_row10_col1, #T_9b364_row10_col2, #T_9b364_row10_col3, #T_9b364_row10_col4, #T_9b364_row10_col5, #T_9b364_row10_col6, #T_9b364_row10_col7, #T_9b364_row10_col8, #T_9b364_row10_col9, #T_9b364_row10_col11, #T_9b364_row10_col12, #T_9b364_row10_col13, #T_9b364_row10_col14, #T_9b364_row11_col0, #T_9b364_row11_col1, #T_9b364_row11_col2, #T_9b364_row11_col3, #T_9b364_row11_col4, #T_9b364_row11_col5, #T_9b364_row11_col6, #T_9b364_row11_col7, #T_9b364_row11_col8, #T_9b364_row11_col9, #T_9b364_row11_col11, #T_9b364_row11_col12, #T_9b364_row11_col13, #T_9b364_row11_col14 {\n",
              "  background-color: white;\n",
              "}\n",
              "#T_9b364_row0_col10, #T_9b364_row1_col10, #T_9b364_row2_col10, #T_9b364_row3_col10, #T_9b364_row4_col10, #T_9b364_row5_col10, #T_9b364_row6_col10, #T_9b364_row7_col10, #T_9b364_row8_col10, #T_9b364_row9_col10, #T_9b364_row10_col10, #T_9b364_row11_col10 {\n",
              "  background-color: blue;\n",
              "}\n",
              "</style>\n",
              "<table id=\"T_9b364\" class=\"dataframe\">\n",
              "  <thead>\n",
              "    <tr>\n",
              "      <th class=\"blank level0\" >&nbsp;</th>\n",
              "      <th id=\"T_9b364_level0_col0\" class=\"col_heading level0 col0\" >id</th>\n",
              "      <th id=\"T_9b364_level0_col1\" class=\"col_heading level0 col1\" >season</th>\n",
              "      <th id=\"T_9b364_level0_col2\" class=\"col_heading level0 col2\" >city</th>\n",
              "      <th id=\"T_9b364_level0_col3\" class=\"col_heading level0 col3\" >date</th>\n",
              "      <th id=\"T_9b364_level0_col4\" class=\"col_heading level0 col4\" >team1</th>\n",
              "      <th id=\"T_9b364_level0_col5\" class=\"col_heading level0 col5\" >team2</th>\n",
              "      <th id=\"T_9b364_level0_col6\" class=\"col_heading level0 col6\" >toss_winner</th>\n",
              "      <th id=\"T_9b364_level0_col7\" class=\"col_heading level0 col7\" >toss_decision</th>\n",
              "      <th id=\"T_9b364_level0_col8\" class=\"col_heading level0 col8\" >result</th>\n",
              "      <th id=\"T_9b364_level0_col9\" class=\"col_heading level0 col9\" >dl_applied</th>\n",
              "      <th id=\"T_9b364_level0_col10\" class=\"col_heading level0 col10\" >winner</th>\n",
              "      <th id=\"T_9b364_level0_col11\" class=\"col_heading level0 col11\" >win_by_runs</th>\n",
              "      <th id=\"T_9b364_level0_col12\" class=\"col_heading level0 col12\" >win_by_wickets</th>\n",
              "      <th id=\"T_9b364_level0_col13\" class=\"col_heading level0 col13\" >player_of_match</th>\n",
              "      <th id=\"T_9b364_level0_col14\" class=\"col_heading level0 col14\" >venue</th>\n",
              "    </tr>\n",
              "  </thead>\n",
              "  <tbody>\n",
              "    <tr>\n",
              "      <th id=\"T_9b364_level0_row0\" class=\"row_heading level0 row0\" >0</th>\n",
              "      <td id=\"T_9b364_row0_col0\" class=\"data row0 col0\" >117</td>\n",
              "      <td id=\"T_9b364_row0_col1\" class=\"data row0 col1\" >2008</td>\n",
              "      <td id=\"T_9b364_row0_col2\" class=\"data row0 col2\" >Mumbai</td>\n",
              "      <td id=\"T_9b364_row0_col3\" class=\"data row0 col3\" >2008-06-01</td>\n",
              "      <td id=\"T_9b364_row0_col4\" class=\"data row0 col4\" >Chennai Super Kings</td>\n",
              "      <td id=\"T_9b364_row0_col5\" class=\"data row0 col5\" >Rajasthan Royals</td>\n",
              "      <td id=\"T_9b364_row0_col6\" class=\"data row0 col6\" >Rajasthan Royals</td>\n",
              "      <td id=\"T_9b364_row0_col7\" class=\"data row0 col7\" >field</td>\n",
              "      <td id=\"T_9b364_row0_col8\" class=\"data row0 col8\" >normal</td>\n",
              "      <td id=\"T_9b364_row0_col9\" class=\"data row0 col9\" >0</td>\n",
              "      <td id=\"T_9b364_row0_col10\" class=\"data row0 col10\" >Rajasthan Royals</td>\n",
              "      <td id=\"T_9b364_row0_col11\" class=\"data row0 col11\" >0</td>\n",
              "      <td id=\"T_9b364_row0_col12\" class=\"data row0 col12\" >3</td>\n",
              "      <td id=\"T_9b364_row0_col13\" class=\"data row0 col13\" >YK Pathan</td>\n",
              "      <td id=\"T_9b364_row0_col14\" class=\"data row0 col14\" >Dr DY Patil Sports Academy</td>\n",
              "    </tr>\n",
              "    <tr>\n",
              "      <th id=\"T_9b364_level0_row1\" class=\"row_heading level0 row1\" >1</th>\n",
              "      <td id=\"T_9b364_row1_col0\" class=\"data row1 col0\" >174</td>\n",
              "      <td id=\"T_9b364_row1_col1\" class=\"data row1 col1\" >2009</td>\n",
              "      <td id=\"T_9b364_row1_col2\" class=\"data row1 col2\" >Johannesburg</td>\n",
              "      <td id=\"T_9b364_row1_col3\" class=\"data row1 col3\" >2009-05-24</td>\n",
              "      <td id=\"T_9b364_row1_col4\" class=\"data row1 col4\" >Deccan Chargers</td>\n",
              "      <td id=\"T_9b364_row1_col5\" class=\"data row1 col5\" >Royal Challengers Bangalore</td>\n",
              "      <td id=\"T_9b364_row1_col6\" class=\"data row1 col6\" >Royal Challengers Bangalore</td>\n",
              "      <td id=\"T_9b364_row1_col7\" class=\"data row1 col7\" >field</td>\n",
              "      <td id=\"T_9b364_row1_col8\" class=\"data row1 col8\" >normal</td>\n",
              "      <td id=\"T_9b364_row1_col9\" class=\"data row1 col9\" >0</td>\n",
              "      <td id=\"T_9b364_row1_col10\" class=\"data row1 col10\" >Deccan Chargers</td>\n",
              "      <td id=\"T_9b364_row1_col11\" class=\"data row1 col11\" >6</td>\n",
              "      <td id=\"T_9b364_row1_col12\" class=\"data row1 col12\" >0</td>\n",
              "      <td id=\"T_9b364_row1_col13\" class=\"data row1 col13\" >A Kumble</td>\n",
              "      <td id=\"T_9b364_row1_col14\" class=\"data row1 col14\" >New Wanderers Stadium</td>\n",
              "    </tr>\n",
              "    <tr>\n",
              "      <th id=\"T_9b364_level0_row2\" class=\"row_heading level0 row2\" >2</th>\n",
              "      <td id=\"T_9b364_row2_col0\" class=\"data row2 col0\" >234</td>\n",
              "      <td id=\"T_9b364_row2_col1\" class=\"data row2 col1\" >2010</td>\n",
              "      <td id=\"T_9b364_row2_col2\" class=\"data row2 col2\" >Mumbai</td>\n",
              "      <td id=\"T_9b364_row2_col3\" class=\"data row2 col3\" >2010-04-25</td>\n",
              "      <td id=\"T_9b364_row2_col4\" class=\"data row2 col4\" >Chennai Super Kings</td>\n",
              "      <td id=\"T_9b364_row2_col5\" class=\"data row2 col5\" >Mumbai Indians</td>\n",
              "      <td id=\"T_9b364_row2_col6\" class=\"data row2 col6\" >Chennai Super Kings</td>\n",
              "      <td id=\"T_9b364_row2_col7\" class=\"data row2 col7\" >bat</td>\n",
              "      <td id=\"T_9b364_row2_col8\" class=\"data row2 col8\" >normal</td>\n",
              "      <td id=\"T_9b364_row2_col9\" class=\"data row2 col9\" >0</td>\n",
              "      <td id=\"T_9b364_row2_col10\" class=\"data row2 col10\" >Chennai Super Kings</td>\n",
              "      <td id=\"T_9b364_row2_col11\" class=\"data row2 col11\" >22</td>\n",
              "      <td id=\"T_9b364_row2_col12\" class=\"data row2 col12\" >0</td>\n",
              "      <td id=\"T_9b364_row2_col13\" class=\"data row2 col13\" >SK Raina</td>\n",
              "      <td id=\"T_9b364_row2_col14\" class=\"data row2 col14\" >Dr DY Patil Sports Academy</td>\n",
              "    </tr>\n",
              "    <tr>\n",
              "      <th id=\"T_9b364_level0_row3\" class=\"row_heading level0 row3\" >3</th>\n",
              "      <td id=\"T_9b364_row3_col0\" class=\"data row3 col0\" >307</td>\n",
              "      <td id=\"T_9b364_row3_col1\" class=\"data row3 col1\" >2011</td>\n",
              "      <td id=\"T_9b364_row3_col2\" class=\"data row3 col2\" >Chennai</td>\n",
              "      <td id=\"T_9b364_row3_col3\" class=\"data row3 col3\" >2011-05-28</td>\n",
              "      <td id=\"T_9b364_row3_col4\" class=\"data row3 col4\" >Chennai Super Kings</td>\n",
              "      <td id=\"T_9b364_row3_col5\" class=\"data row3 col5\" >Royal Challengers Bangalore</td>\n",
              "      <td id=\"T_9b364_row3_col6\" class=\"data row3 col6\" >Chennai Super Kings</td>\n",
              "      <td id=\"T_9b364_row3_col7\" class=\"data row3 col7\" >bat</td>\n",
              "      <td id=\"T_9b364_row3_col8\" class=\"data row3 col8\" >normal</td>\n",
              "      <td id=\"T_9b364_row3_col9\" class=\"data row3 col9\" >0</td>\n",
              "      <td id=\"T_9b364_row3_col10\" class=\"data row3 col10\" >Chennai Super Kings</td>\n",
              "      <td id=\"T_9b364_row3_col11\" class=\"data row3 col11\" >58</td>\n",
              "      <td id=\"T_9b364_row3_col12\" class=\"data row3 col12\" >0</td>\n",
              "      <td id=\"T_9b364_row3_col13\" class=\"data row3 col13\" >M Vijay</td>\n",
              "      <td id=\"T_9b364_row3_col14\" class=\"data row3 col14\" >MA Chidambaram Stadium, Chepauk</td>\n",
              "    </tr>\n",
              "    <tr>\n",
              "      <th id=\"T_9b364_level0_row4\" class=\"row_heading level0 row4\" >4</th>\n",
              "      <td id=\"T_9b364_row4_col0\" class=\"data row4 col0\" >381</td>\n",
              "      <td id=\"T_9b364_row4_col1\" class=\"data row4 col1\" >2012</td>\n",
              "      <td id=\"T_9b364_row4_col2\" class=\"data row4 col2\" >Chennai</td>\n",
              "      <td id=\"T_9b364_row4_col3\" class=\"data row4 col3\" >2012-05-27</td>\n",
              "      <td id=\"T_9b364_row4_col4\" class=\"data row4 col4\" >Chennai Super Kings</td>\n",
              "      <td id=\"T_9b364_row4_col5\" class=\"data row4 col5\" >Kolkata Knight Riders</td>\n",
              "      <td id=\"T_9b364_row4_col6\" class=\"data row4 col6\" >Chennai Super Kings</td>\n",
              "      <td id=\"T_9b364_row4_col7\" class=\"data row4 col7\" >bat</td>\n",
              "      <td id=\"T_9b364_row4_col8\" class=\"data row4 col8\" >normal</td>\n",
              "      <td id=\"T_9b364_row4_col9\" class=\"data row4 col9\" >0</td>\n",
              "      <td id=\"T_9b364_row4_col10\" class=\"data row4 col10\" >Kolkata Knight Riders</td>\n",
              "      <td id=\"T_9b364_row4_col11\" class=\"data row4 col11\" >0</td>\n",
              "      <td id=\"T_9b364_row4_col12\" class=\"data row4 col12\" >5</td>\n",
              "      <td id=\"T_9b364_row4_col13\" class=\"data row4 col13\" >MS Bisla</td>\n",
              "      <td id=\"T_9b364_row4_col14\" class=\"data row4 col14\" >MA Chidambaram Stadium, Chepauk</td>\n",
              "    </tr>\n",
              "    <tr>\n",
              "      <th id=\"T_9b364_level0_row5\" class=\"row_heading level0 row5\" >5</th>\n",
              "      <td id=\"T_9b364_row5_col0\" class=\"data row5 col0\" >457</td>\n",
              "      <td id=\"T_9b364_row5_col1\" class=\"data row5 col1\" >2013</td>\n",
              "      <td id=\"T_9b364_row5_col2\" class=\"data row5 col2\" >Kolkata</td>\n",
              "      <td id=\"T_9b364_row5_col3\" class=\"data row5 col3\" >2013-05-26</td>\n",
              "      <td id=\"T_9b364_row5_col4\" class=\"data row5 col4\" >Mumbai Indians</td>\n",
              "      <td id=\"T_9b364_row5_col5\" class=\"data row5 col5\" >Chennai Super Kings</td>\n",
              "      <td id=\"T_9b364_row5_col6\" class=\"data row5 col6\" >Mumbai Indians</td>\n",
              "      <td id=\"T_9b364_row5_col7\" class=\"data row5 col7\" >bat</td>\n",
              "      <td id=\"T_9b364_row5_col8\" class=\"data row5 col8\" >normal</td>\n",
              "      <td id=\"T_9b364_row5_col9\" class=\"data row5 col9\" >0</td>\n",
              "      <td id=\"T_9b364_row5_col10\" class=\"data row5 col10\" >Mumbai Indians</td>\n",
              "      <td id=\"T_9b364_row5_col11\" class=\"data row5 col11\" >23</td>\n",
              "      <td id=\"T_9b364_row5_col12\" class=\"data row5 col12\" >0</td>\n",
              "      <td id=\"T_9b364_row5_col13\" class=\"data row5 col13\" >KA Pollard</td>\n",
              "      <td id=\"T_9b364_row5_col14\" class=\"data row5 col14\" >Eden Gardens</td>\n",
              "    </tr>\n",
              "    <tr>\n",
              "      <th id=\"T_9b364_level0_row6\" class=\"row_heading level0 row6\" >6</th>\n",
              "      <td id=\"T_9b364_row6_col0\" class=\"data row6 col0\" >517</td>\n",
              "      <td id=\"T_9b364_row6_col1\" class=\"data row6 col1\" >2014</td>\n",
              "      <td id=\"T_9b364_row6_col2\" class=\"data row6 col2\" >Bengaluru</td>\n",
              "      <td id=\"T_9b364_row6_col3\" class=\"data row6 col3\" >2014-06-01</td>\n",
              "      <td id=\"T_9b364_row6_col4\" class=\"data row6 col4\" >Kings XI Punjab</td>\n",
              "      <td id=\"T_9b364_row6_col5\" class=\"data row6 col5\" >Kolkata Knight Riders</td>\n",
              "      <td id=\"T_9b364_row6_col6\" class=\"data row6 col6\" >Kolkata Knight Riders</td>\n",
              "      <td id=\"T_9b364_row6_col7\" class=\"data row6 col7\" >field</td>\n",
              "      <td id=\"T_9b364_row6_col8\" class=\"data row6 col8\" >normal</td>\n",
              "      <td id=\"T_9b364_row6_col9\" class=\"data row6 col9\" >0</td>\n",
              "      <td id=\"T_9b364_row6_col10\" class=\"data row6 col10\" >Kolkata Knight Riders</td>\n",
              "      <td id=\"T_9b364_row6_col11\" class=\"data row6 col11\" >0</td>\n",
              "      <td id=\"T_9b364_row6_col12\" class=\"data row6 col12\" >3</td>\n",
              "      <td id=\"T_9b364_row6_col13\" class=\"data row6 col13\" >MK Pandey</td>\n",
              "      <td id=\"T_9b364_row6_col14\" class=\"data row6 col14\" >M Chinnaswamy Stadium</td>\n",
              "    </tr>\n",
              "    <tr>\n",
              "      <th id=\"T_9b364_level0_row7\" class=\"row_heading level0 row7\" >7</th>\n",
              "      <td id=\"T_9b364_row7_col0\" class=\"data row7 col0\" >576</td>\n",
              "      <td id=\"T_9b364_row7_col1\" class=\"data row7 col1\" >2015</td>\n",
              "      <td id=\"T_9b364_row7_col2\" class=\"data row7 col2\" >Kolkata</td>\n",
              "      <td id=\"T_9b364_row7_col3\" class=\"data row7 col3\" >2015-05-24</td>\n",
              "      <td id=\"T_9b364_row7_col4\" class=\"data row7 col4\" >Mumbai Indians</td>\n",
              "      <td id=\"T_9b364_row7_col5\" class=\"data row7 col5\" >Chennai Super Kings</td>\n",
              "      <td id=\"T_9b364_row7_col6\" class=\"data row7 col6\" >Chennai Super Kings</td>\n",
              "      <td id=\"T_9b364_row7_col7\" class=\"data row7 col7\" >field</td>\n",
              "      <td id=\"T_9b364_row7_col8\" class=\"data row7 col8\" >normal</td>\n",
              "      <td id=\"T_9b364_row7_col9\" class=\"data row7 col9\" >0</td>\n",
              "      <td id=\"T_9b364_row7_col10\" class=\"data row7 col10\" >Mumbai Indians</td>\n",
              "      <td id=\"T_9b364_row7_col11\" class=\"data row7 col11\" >41</td>\n",
              "      <td id=\"T_9b364_row7_col12\" class=\"data row7 col12\" >0</td>\n",
              "      <td id=\"T_9b364_row7_col13\" class=\"data row7 col13\" >RG Sharma</td>\n",
              "      <td id=\"T_9b364_row7_col14\" class=\"data row7 col14\" >Eden Gardens</td>\n",
              "    </tr>\n",
              "    <tr>\n",
              "      <th id=\"T_9b364_level0_row8\" class=\"row_heading level0 row8\" >8</th>\n",
              "      <td id=\"T_9b364_row8_col0\" class=\"data row8 col0\" >636</td>\n",
              "      <td id=\"T_9b364_row8_col1\" class=\"data row8 col1\" >2016</td>\n",
              "      <td id=\"T_9b364_row8_col2\" class=\"data row8 col2\" >Bengaluru</td>\n",
              "      <td id=\"T_9b364_row8_col3\" class=\"data row8 col3\" >2016-05-29</td>\n",
              "      <td id=\"T_9b364_row8_col4\" class=\"data row8 col4\" >Sunrisers Hyderabad</td>\n",
              "      <td id=\"T_9b364_row8_col5\" class=\"data row8 col5\" >Royal Challengers Bangalore</td>\n",
              "      <td id=\"T_9b364_row8_col6\" class=\"data row8 col6\" >Sunrisers Hyderabad</td>\n",
              "      <td id=\"T_9b364_row8_col7\" class=\"data row8 col7\" >bat</td>\n",
              "      <td id=\"T_9b364_row8_col8\" class=\"data row8 col8\" >normal</td>\n",
              "      <td id=\"T_9b364_row8_col9\" class=\"data row8 col9\" >0</td>\n",
              "      <td id=\"T_9b364_row8_col10\" class=\"data row8 col10\" >Sunrisers Hyderabad</td>\n",
              "      <td id=\"T_9b364_row8_col11\" class=\"data row8 col11\" >8</td>\n",
              "      <td id=\"T_9b364_row8_col12\" class=\"data row8 col12\" >0</td>\n",
              "      <td id=\"T_9b364_row8_col13\" class=\"data row8 col13\" >BCJ Cutting</td>\n",
              "      <td id=\"T_9b364_row8_col14\" class=\"data row8 col14\" >M Chinnaswamy Stadium</td>\n",
              "    </tr>\n",
              "    <tr>\n",
              "      <th id=\"T_9b364_level0_row9\" class=\"row_heading level0 row9\" >9</th>\n",
              "      <td id=\"T_9b364_row9_col0\" class=\"data row9 col0\" >59</td>\n",
              "      <td id=\"T_9b364_row9_col1\" class=\"data row9 col1\" >2017</td>\n",
              "      <td id=\"T_9b364_row9_col2\" class=\"data row9 col2\" >Hyderabad</td>\n",
              "      <td id=\"T_9b364_row9_col3\" class=\"data row9 col3\" >2017-05-21</td>\n",
              "      <td id=\"T_9b364_row9_col4\" class=\"data row9 col4\" >Mumbai Indians</td>\n",
              "      <td id=\"T_9b364_row9_col5\" class=\"data row9 col5\" >Rising Pune Supergiant</td>\n",
              "      <td id=\"T_9b364_row9_col6\" class=\"data row9 col6\" >Mumbai Indians</td>\n",
              "      <td id=\"T_9b364_row9_col7\" class=\"data row9 col7\" >bat</td>\n",
              "      <td id=\"T_9b364_row9_col8\" class=\"data row9 col8\" >normal</td>\n",
              "      <td id=\"T_9b364_row9_col9\" class=\"data row9 col9\" >0</td>\n",
              "      <td id=\"T_9b364_row9_col10\" class=\"data row9 col10\" >Mumbai Indians</td>\n",
              "      <td id=\"T_9b364_row9_col11\" class=\"data row9 col11\" >1</td>\n",
              "      <td id=\"T_9b364_row9_col12\" class=\"data row9 col12\" >0</td>\n",
              "      <td id=\"T_9b364_row9_col13\" class=\"data row9 col13\" >KH Pandya</td>\n",
              "      <td id=\"T_9b364_row9_col14\" class=\"data row9 col14\" >Rajiv Gandhi International Stadium, Uppal</td>\n",
              "    </tr>\n",
              "    <tr>\n",
              "      <th id=\"T_9b364_level0_row10\" class=\"row_heading level0 row10\" >10</th>\n",
              "      <td id=\"T_9b364_row10_col0\" class=\"data row10 col0\" >7953</td>\n",
              "      <td id=\"T_9b364_row10_col1\" class=\"data row10 col1\" >2018</td>\n",
              "      <td id=\"T_9b364_row10_col2\" class=\"data row10 col2\" >Mumbai</td>\n",
              "      <td id=\"T_9b364_row10_col3\" class=\"data row10 col3\" >27/05/18</td>\n",
              "      <td id=\"T_9b364_row10_col4\" class=\"data row10 col4\" >Sunrisers Hyderabad</td>\n",
              "      <td id=\"T_9b364_row10_col5\" class=\"data row10 col5\" >Chennai Super Kings</td>\n",
              "      <td id=\"T_9b364_row10_col6\" class=\"data row10 col6\" >Chennai Super Kings</td>\n",
              "      <td id=\"T_9b364_row10_col7\" class=\"data row10 col7\" >field</td>\n",
              "      <td id=\"T_9b364_row10_col8\" class=\"data row10 col8\" >normal</td>\n",
              "      <td id=\"T_9b364_row10_col9\" class=\"data row10 col9\" >0</td>\n",
              "      <td id=\"T_9b364_row10_col10\" class=\"data row10 col10\" >Chennai Super Kings</td>\n",
              "      <td id=\"T_9b364_row10_col11\" class=\"data row10 col11\" >0</td>\n",
              "      <td id=\"T_9b364_row10_col12\" class=\"data row10 col12\" >8</td>\n",
              "      <td id=\"T_9b364_row10_col13\" class=\"data row10 col13\" >SR Watson</td>\n",
              "      <td id=\"T_9b364_row10_col14\" class=\"data row10 col14\" >Wankhede Stadium</td>\n",
              "    </tr>\n",
              "    <tr>\n",
              "      <th id=\"T_9b364_level0_row11\" class=\"row_heading level0 row11\" >11</th>\n",
              "      <td id=\"T_9b364_row11_col0\" class=\"data row11 col0\" >11415</td>\n",
              "      <td id=\"T_9b364_row11_col1\" class=\"data row11 col1\" >2019</td>\n",
              "      <td id=\"T_9b364_row11_col2\" class=\"data row11 col2\" >Hyderabad</td>\n",
              "      <td id=\"T_9b364_row11_col3\" class=\"data row11 col3\" >12/05/19</td>\n",
              "      <td id=\"T_9b364_row11_col4\" class=\"data row11 col4\" >Mumbai Indians</td>\n",
              "      <td id=\"T_9b364_row11_col5\" class=\"data row11 col5\" >Chennai Super Kings</td>\n",
              "      <td id=\"T_9b364_row11_col6\" class=\"data row11 col6\" >Mumbai Indians</td>\n",
              "      <td id=\"T_9b364_row11_col7\" class=\"data row11 col7\" >bat</td>\n",
              "      <td id=\"T_9b364_row11_col8\" class=\"data row11 col8\" >normal</td>\n",
              "      <td id=\"T_9b364_row11_col9\" class=\"data row11 col9\" >0</td>\n",
              "      <td id=\"T_9b364_row11_col10\" class=\"data row11 col10\" >Mumbai Indians</td>\n",
              "      <td id=\"T_9b364_row11_col11\" class=\"data row11 col11\" >1</td>\n",
              "      <td id=\"T_9b364_row11_col12\" class=\"data row11 col12\" >0</td>\n",
              "      <td id=\"T_9b364_row11_col13\" class=\"data row11 col13\" >JJ Bumrah</td>\n",
              "      <td id=\"T_9b364_row11_col14\" class=\"data row11 col14\" >Rajiv Gandhi Intl. Cricket Stadium</td>\n",
              "    </tr>\n",
              "  </tbody>\n",
              "</table>\n"
            ]
          },
          "metadata": {},
          "execution_count": 34
        }
      ]
    },
    {
      "cell_type": "code",
      "source": [
        "final_count_df=final_df.groupby('winner')[['id']].count()\n",
        "#change the name of colun id to no of times\n",
        "final_count_df.rename(columns={'id':'no_of_times'},inplace=True)\n",
        "final_count_df=final_count_df.reset_index()\n",
        "final_count_df.style.hide_index().background_gradient()"
      ],
      "metadata": {
        "colab": {
          "base_uri": "https://localhost:8080/",
          "height": 274
        },
        "id": "MosifjV7ID9A",
        "outputId": "13732fbd-59bd-4fd6-f937-d00c8d940681"
      },
      "execution_count": 35,
      "outputs": [
        {
          "output_type": "stream",
          "name": "stderr",
          "text": [
            "<ipython-input-35-ecf9db72babe>:5: FutureWarning: this method is deprecated in favour of `Styler.hide(axis=\"index\")`\n",
            "  final_count_df.style.hide_index().background_gradient()\n"
          ]
        },
        {
          "output_type": "execute_result",
          "data": {
            "text/plain": [
              "<pandas.io.formats.style.Styler at 0x7f32d6ae94b0>"
            ],
            "text/html": [
              "<style type=\"text/css\">\n",
              "#T_1022f_row0_col1 {\n",
              "  background-color: #2685bb;\n",
              "  color: #f1f1f1;\n",
              "}\n",
              "#T_1022f_row1_col1, #T_1022f_row4_col1, #T_1022f_row5_col1 {\n",
              "  background-color: #fff7fb;\n",
              "  color: #000000;\n",
              "}\n",
              "#T_1022f_row2_col1 {\n",
              "  background-color: #b4c4df;\n",
              "  color: #000000;\n",
              "}\n",
              "#T_1022f_row3_col1 {\n",
              "  background-color: #023858;\n",
              "  color: #f1f1f1;\n",
              "}\n",
              "</style>\n",
              "<table id=\"T_1022f\" class=\"dataframe\">\n",
              "  <thead>\n",
              "    <tr>\n",
              "      <th id=\"T_1022f_level0_col0\" class=\"col_heading level0 col0\" >winner</th>\n",
              "      <th id=\"T_1022f_level0_col1\" class=\"col_heading level0 col1\" >no_of_times</th>\n",
              "    </tr>\n",
              "  </thead>\n",
              "  <tbody>\n",
              "    <tr>\n",
              "      <td id=\"T_1022f_row0_col0\" class=\"data row0 col0\" >Chennai Super Kings</td>\n",
              "      <td id=\"T_1022f_row0_col1\" class=\"data row0 col1\" >3</td>\n",
              "    </tr>\n",
              "    <tr>\n",
              "      <td id=\"T_1022f_row1_col0\" class=\"data row1 col0\" >Deccan Chargers</td>\n",
              "      <td id=\"T_1022f_row1_col1\" class=\"data row1 col1\" >1</td>\n",
              "    </tr>\n",
              "    <tr>\n",
              "      <td id=\"T_1022f_row2_col0\" class=\"data row2 col0\" >Kolkata Knight Riders</td>\n",
              "      <td id=\"T_1022f_row2_col1\" class=\"data row2 col1\" >2</td>\n",
              "    </tr>\n",
              "    <tr>\n",
              "      <td id=\"T_1022f_row3_col0\" class=\"data row3 col0\" >Mumbai Indians</td>\n",
              "      <td id=\"T_1022f_row3_col1\" class=\"data row3 col1\" >4</td>\n",
              "    </tr>\n",
              "    <tr>\n",
              "      <td id=\"T_1022f_row4_col0\" class=\"data row4 col0\" >Rajasthan Royals</td>\n",
              "      <td id=\"T_1022f_row4_col1\" class=\"data row4 col1\" >1</td>\n",
              "    </tr>\n",
              "    <tr>\n",
              "      <td id=\"T_1022f_row5_col0\" class=\"data row5 col0\" >Sunrisers Hyderabad</td>\n",
              "      <td id=\"T_1022f_row5_col1\" class=\"data row5 col1\" >1</td>\n",
              "    </tr>\n",
              "  </tbody>\n",
              "</table>\n"
            ]
          },
          "metadata": {},
          "execution_count": 35
        }
      ]
    },
    {
      "cell_type": "code",
      "source": [
        "#plotting the data\n",
        "plt.figure(figsize=(10,7))\n",
        "plt.title(\"No. of times a team won IPL\",fontsize=20,bbox={'facecolor':'0.9','pad':6},pad=25)\n",
        "plt.xlabel('winner',fontsize=20)\n",
        "plt.ylabel('no_of_times',fontsize=20)\n",
        "plt.grid()\n",
        "plt.tick_params(labelsize=20)\n",
        "plt.xticks(rotation=90)\n",
        "plt.bar(final_count_df.winner,final_count_df.no_of_times)"
      ],
      "metadata": {
        "colab": {
          "base_uri": "https://localhost:8080/",
          "height": 990
        },
        "id": "X4IoJScQK03z",
        "outputId": "4eb5b545-1fd5-49b4-97ff-ed7466318d5a"
      },
      "execution_count": 36,
      "outputs": [
        {
          "output_type": "execute_result",
          "data": {
            "text/plain": [
              "<BarContainer object of 6 artists>"
            ]
          },
          "metadata": {},
          "execution_count": 36
        },
        {
          "output_type": "display_data",
          "data": {
            "text/plain": [
              "<Figure size 1000x700 with 1 Axes>"
            ],
            "image/png": "[encoded data removed]"
          },
          "metadata": {}
        }
      ]
    },
    {
      "cell_type": "markdown",
      "source": [
        "**Find most times awarded player of the match**"
      ],
      "metadata": {
        "id": "6PgPaWvFQN1d"
      }
    },
    {
      "cell_type": "code",
      "source": [
        "#Lets Check how many players have been awarded \n",
        "'Total players awarded are '+str(len(ipl_df.player_of_match.unique()))"
      ],
      "metadata": {
        "id": "dq43U0QrNPl4",
        "colab": {
          "base_uri": "https://localhost:8080/",
          "height": 36
        },
        "outputId": "852de53f-35e8-4868-fbaa-9e135fc33bf8"
      },
      "execution_count": 37,
      "outputs": [
        {
          "output_type": "execute_result",
          "data": {
            "text/plain": [
              "'Total players awarded are 227'"
            ],
            "application/vnd.google.colaboratory.intrinsic+json": {
              "type": "string"
            }
          },
          "metadata": {},
          "execution_count": 37
        }
      ]
    },
    {
      "cell_type": "code",
      "source": [
        "# Extract the data\n",
        "pom_df=ipl_df.groupby('player_of_match')[['id']].count()\n",
        "pom_df = pom_df.sort_values('id',ascending=False).reset_index()\n",
        "pom_df.rename(columns={'id':'No. of times'},inplace=True)\n",
        "\n",
        "#Now from these players let extract top 10 players\n",
        "pom_df = pom_df.head(10)\n",
        "pom_df.index=np.arange(1,len(pom_df)+1)\n",
        "pom_df.style.background_gradient()"
      ],
      "metadata": {
        "colab": {
          "base_uri": "https://localhost:8080/",
          "height": 363
        },
        "id": "2deE3YcUFvY4",
        "outputId": "50a2b6be-9c43-4c22-e3df-7a264b4ac2e9"
      },
      "execution_count": 38,
      "outputs": [
        {
          "output_type": "execute_result",
          "data": {
            "text/plain": [
              "<pandas.io.formats.style.Styler at 0x7f32d7c86ef0>"
            ],
            "text/html": [
              "<style type=\"text/css\">\n",
              "#T_531d4_row0_col1 {\n",
              "  background-color: #023858;\n",
              "  color: #f1f1f1;\n",
              "}\n",
              "#T_531d4_row1_col1 {\n",
              "  background-color: #045687;\n",
              "  color: #f1f1f1;\n",
              "}\n",
              "#T_531d4_row2_col1, #T_531d4_row3_col1, #T_531d4_row4_col1 {\n",
              "  background-color: #589ec8;\n",
              "  color: #f1f1f1;\n",
              "}\n",
              "#T_531d4_row5_col1 {\n",
              "  background-color: #8bb2d4;\n",
              "  color: #000000;\n",
              "}\n",
              "#T_531d4_row6_col1 {\n",
              "  background-color: #b4c4df;\n",
              "  color: #000000;\n",
              "}\n",
              "#T_531d4_row7_col1 {\n",
              "  background-color: #d7d6e9;\n",
              "  color: #000000;\n",
              "}\n",
              "#T_531d4_row8_col1 {\n",
              "  background-color: #eee9f3;\n",
              "  color: #000000;\n",
              "}\n",
              "#T_531d4_row9_col1 {\n",
              "  background-color: #fff7fb;\n",
              "  color: #000000;\n",
              "}\n",
              "</style>\n",
              "<table id=\"T_531d4\" class=\"dataframe\">\n",
              "  <thead>\n",
              "    <tr>\n",
              "      <th class=\"blank level0\" >&nbsp;</th>\n",
              "      <th id=\"T_531d4_level0_col0\" class=\"col_heading level0 col0\" >player_of_match</th>\n",
              "      <th id=\"T_531d4_level0_col1\" class=\"col_heading level0 col1\" >No. of times</th>\n",
              "    </tr>\n",
              "  </thead>\n",
              "  <tbody>\n",
              "    <tr>\n",
              "      <th id=\"T_531d4_level0_row0\" class=\"row_heading level0 row0\" >1</th>\n",
              "      <td id=\"T_531d4_row0_col0\" class=\"data row0 col0\" >CH Gayle</td>\n",
              "      <td id=\"T_531d4_row0_col1\" class=\"data row0 col1\" >21</td>\n",
              "    </tr>\n",
              "    <tr>\n",
              "      <th id=\"T_531d4_level0_row1\" class=\"row_heading level0 row1\" >2</th>\n",
              "      <td id=\"T_531d4_row1_col0\" class=\"data row1 col0\" >AB de Villiers</td>\n",
              "      <td id=\"T_531d4_row1_col1\" class=\"data row1 col1\" >20</td>\n",
              "    </tr>\n",
              "    <tr>\n",
              "      <th id=\"T_531d4_level0_row2\" class=\"row_heading level0 row2\" >3</th>\n",
              "      <td id=\"T_531d4_row2_col0\" class=\"data row2 col0\" >MS Dhoni</td>\n",
              "      <td id=\"T_531d4_row2_col1\" class=\"data row2 col1\" >17</td>\n",
              "    </tr>\n",
              "    <tr>\n",
              "      <th id=\"T_531d4_level0_row3\" class=\"row_heading level0 row3\" >4</th>\n",
              "      <td id=\"T_531d4_row3_col0\" class=\"data row3 col0\" >RG Sharma</td>\n",
              "      <td id=\"T_531d4_row3_col1\" class=\"data row3 col1\" >17</td>\n",
              "    </tr>\n",
              "    <tr>\n",
              "      <th id=\"T_531d4_level0_row4\" class=\"row_heading level0 row4\" >5</th>\n",
              "      <td id=\"T_531d4_row4_col0\" class=\"data row4 col0\" >DA Warner</td>\n",
              "      <td id=\"T_531d4_row4_col1\" class=\"data row4 col1\" >17</td>\n",
              "    </tr>\n",
              "    <tr>\n",
              "      <th id=\"T_531d4_level0_row5\" class=\"row_heading level0 row5\" >6</th>\n",
              "      <td id=\"T_531d4_row5_col0\" class=\"data row5 col0\" >YK Pathan</td>\n",
              "      <td id=\"T_531d4_row5_col1\" class=\"data row5 col1\" >16</td>\n",
              "    </tr>\n",
              "    <tr>\n",
              "      <th id=\"T_531d4_level0_row6\" class=\"row_heading level0 row6\" >7</th>\n",
              "      <td id=\"T_531d4_row6_col0\" class=\"data row6 col0\" >SR Watson</td>\n",
              "      <td id=\"T_531d4_row6_col1\" class=\"data row6 col1\" >15</td>\n",
              "    </tr>\n",
              "    <tr>\n",
              "      <th id=\"T_531d4_level0_row7\" class=\"row_heading level0 row7\" >8</th>\n",
              "      <td id=\"T_531d4_row7_col0\" class=\"data row7 col0\" >SK Raina</td>\n",
              "      <td id=\"T_531d4_row7_col1\" class=\"data row7 col1\" >14</td>\n",
              "    </tr>\n",
              "    <tr>\n",
              "      <th id=\"T_531d4_level0_row8\" class=\"row_heading level0 row8\" >9</th>\n",
              "      <td id=\"T_531d4_row8_col0\" class=\"data row8 col0\" >G Gambhir</td>\n",
              "      <td id=\"T_531d4_row8_col1\" class=\"data row8 col1\" >13</td>\n",
              "    </tr>\n",
              "    <tr>\n",
              "      <th id=\"T_531d4_level0_row9\" class=\"row_heading level0 row9\" >10</th>\n",
              "      <td id=\"T_531d4_row9_col0\" class=\"data row9 col0\" >AM Rahane</td>\n",
              "      <td id=\"T_531d4_row9_col1\" class=\"data row9 col1\" >12</td>\n",
              "    </tr>\n",
              "  </tbody>\n",
              "</table>\n"
            ]
          },
          "metadata": {},
          "execution_count": 38
        }
      ]
    },
    {
      "cell_type": "code",
      "source": [
        "# Now visualise data using matlotlib and seaborn\n",
        "sns.barplot(x='player_of_match',y='No. of times',data=pom_df,palette='YlOrBr_r');\n",
        "# pad  is use to set padding and bbox is use to put the title in a box\n",
        "plt.title('Player of the match',fontsize=15,bbox={'facecolor':'0.9','pad':4},pad=18)\n",
        "# To set the size of ticks\n",
        "plt.tick_params(labelsize=12)\n",
        "# To set the degree of rotation on x-ticks\n",
        "plt.xticks(rotation=65)\n",
        "plt.xlabel(\"Name of the Player\",size=15)\n",
        "plt.ylabel(\"No. of times\",size=15);"
      ],
      "metadata": {
        "colab": {
          "base_uri": "https://localhost:8080/",
          "height": 589
        },
        "id": "3hz3ZKCVGbdv",
        "outputId": "e5fe0960-64db-4499-efce-13b281dca484"
      },
      "execution_count": 39,
      "outputs": [
        {
          "output_type": "display_data",
          "data": {
            "text/plain": [
              "<Figure size 640x480 with 1 Axes>"
            ],
            "image/png": "[encoded data removed]"
          },
          "metadata": {}
        }
      ]
    },
    {
      "cell_type": "markdown",
      "source": [
        "**Most number of finals played by team**"
      ],
      "metadata": {
        "id": "e0ojupUM2kSy"
      }
    },
    {
      "cell_type": "code",
      "source": [
        "#preparing data frame \n",
        "df1 = pd.DataFrame({'team_name':final_df.team1,'id':final_df.id})\n",
        "df2 = pd.DataFrame({'team_name':final_df.team2,'id':final_df.id})\n",
        "#now concatenate\n",
        "team_final=pd.concat([df1,df2],ignore_index=True)\n",
        "#now arrange the data in organised manner\n",
        "team_final=team_final.groupby('team_name')[['id']].count()\n",
        "#now change the column name\n",
        "team_final.rename(columns={'id':'no. of times'},inplace=True)\n",
        "team_final=team_final.sort_values('no. of times',ascending=False).reset_index()\n",
        "team_final.style.background_gradient()"
      ],
      "metadata": {
        "id": "pEy9k_A4GfWx",
        "colab": {
          "base_uri": "https://localhost:8080/",
          "height": 331
        },
        "outputId": "adc2a857-d2c3-460d-cf11-c13d8873684c"
      },
      "execution_count": 49,
      "outputs": [
        {
          "output_type": "execute_result",
          "data": {
            "text/plain": [
              "<pandas.io.formats.style.Styler at 0x7f32d4e76bf0>"
            ],
            "text/html": [
              "<style type=\"text/css\">\n",
              "#T_598d6_row0_col1 {\n",
              "  background-color: #023858;\n",
              "  color: #f1f1f1;\n",
              "}\n",
              "#T_598d6_row1_col1 {\n",
              "  background-color: #509ac6;\n",
              "  color: #f1f1f1;\n",
              "}\n",
              "#T_598d6_row2_col1 {\n",
              "  background-color: #c4cbe3;\n",
              "  color: #000000;\n",
              "}\n",
              "#T_598d6_row3_col1, #T_598d6_row4_col1 {\n",
              "  background-color: #e8e4f0;\n",
              "  color: #000000;\n",
              "}\n",
              "#T_598d6_row5_col1, #T_598d6_row6_col1, #T_598d6_row7_col1, #T_598d6_row8_col1 {\n",
              "  background-color: #fff7fb;\n",
              "  color: #000000;\n",
              "}\n",
              "</style>\n",
              "<table id=\"T_598d6\" class=\"dataframe\">\n",
              "  <thead>\n",
              "    <tr>\n",
              "      <th class=\"blank level0\" >&nbsp;</th>\n",
              "      <th id=\"T_598d6_level0_col0\" class=\"col_heading level0 col0\" >team_name</th>\n",
              "      <th id=\"T_598d6_level0_col1\" class=\"col_heading level0 col1\" >no. of times</th>\n",
              "    </tr>\n",
              "  </thead>\n",
              "  <tbody>\n",
              "    <tr>\n",
              "      <th id=\"T_598d6_level0_row0\" class=\"row_heading level0 row0\" >0</th>\n",
              "      <td id=\"T_598d6_row0_col0\" class=\"data row0 col0\" >Chennai Super Kings</td>\n",
              "      <td id=\"T_598d6_row0_col1\" class=\"data row0 col1\" >8</td>\n",
              "    </tr>\n",
              "    <tr>\n",
              "      <th id=\"T_598d6_level0_row1\" class=\"row_heading level0 row1\" >1</th>\n",
              "      <td id=\"T_598d6_row1_col0\" class=\"data row1 col0\" >Mumbai Indians</td>\n",
              "      <td id=\"T_598d6_row1_col1\" class=\"data row1 col1\" >5</td>\n",
              "    </tr>\n",
              "    <tr>\n",
              "      <th id=\"T_598d6_level0_row2\" class=\"row_heading level0 row2\" >2</th>\n",
              "      <td id=\"T_598d6_row2_col0\" class=\"data row2 col0\" >Royal Challengers Bangalore</td>\n",
              "      <td id=\"T_598d6_row2_col1\" class=\"data row2 col1\" >3</td>\n",
              "    </tr>\n",
              "    <tr>\n",
              "      <th id=\"T_598d6_level0_row3\" class=\"row_heading level0 row3\" >3</th>\n",
              "      <td id=\"T_598d6_row3_col0\" class=\"data row3 col0\" >Kolkata Knight Riders</td>\n",
              "      <td id=\"T_598d6_row3_col1\" class=\"data row3 col1\" >2</td>\n",
              "    </tr>\n",
              "    <tr>\n",
              "      <th id=\"T_598d6_level0_row4\" class=\"row_heading level0 row4\" >4</th>\n",
              "      <td id=\"T_598d6_row4_col0\" class=\"data row4 col0\" >Sunrisers Hyderabad</td>\n",
              "      <td id=\"T_598d6_row4_col1\" class=\"data row4 col1\" >2</td>\n",
              "    </tr>\n",
              "    <tr>\n",
              "      <th id=\"T_598d6_level0_row5\" class=\"row_heading level0 row5\" >5</th>\n",
              "      <td id=\"T_598d6_row5_col0\" class=\"data row5 col0\" >Deccan Chargers</td>\n",
              "      <td id=\"T_598d6_row5_col1\" class=\"data row5 col1\" >1</td>\n",
              "    </tr>\n",
              "    <tr>\n",
              "      <th id=\"T_598d6_level0_row6\" class=\"row_heading level0 row6\" >6</th>\n",
              "      <td id=\"T_598d6_row6_col0\" class=\"data row6 col0\" >Kings XI Punjab</td>\n",
              "      <td id=\"T_598d6_row6_col1\" class=\"data row6 col1\" >1</td>\n",
              "    </tr>\n",
              "    <tr>\n",
              "      <th id=\"T_598d6_level0_row7\" class=\"row_heading level0 row7\" >7</th>\n",
              "      <td id=\"T_598d6_row7_col0\" class=\"data row7 col0\" >Rajasthan Royals</td>\n",
              "      <td id=\"T_598d6_row7_col1\" class=\"data row7 col1\" >1</td>\n",
              "    </tr>\n",
              "    <tr>\n",
              "      <th id=\"T_598d6_level0_row8\" class=\"row_heading level0 row8\" >8</th>\n",
              "      <td id=\"T_598d6_row8_col0\" class=\"data row8 col0\" >Rising Pune Supergiant</td>\n",
              "      <td id=\"T_598d6_row8_col1\" class=\"data row8 col1\" >1</td>\n",
              "    </tr>\n",
              "  </tbody>\n",
              "</table>\n"
            ]
          },
          "metadata": {},
          "execution_count": 49
        }
      ]
    },
    {
      "cell_type": "markdown",
      "source": [
        "**From the above observation the Chennai Super Kings played most number of finals**"
      ],
      "metadata": {
        "id": "mhmPypBT5vcs"
      }
    },
    {
      "cell_type": "code",
      "source": [],
      "metadata": {
        "id": "_QJfbqXe3gqM"
      },
      "execution_count": null,
      "outputs": []
    }
  ]
}